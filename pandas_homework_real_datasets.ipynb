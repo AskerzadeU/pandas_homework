{
 "cells": [
  {
   "cell_type": "markdown",
   "id": "a0b2b90c",
   "metadata": {},
   "source": [
    "# 📘 Pandas Homework with Real Datasets\n",
    "\n",
    "This notebook contains **50+ tasks** to practice using the Pandas library with real datasets like Iris, Titanic, and Tips.\n",
    "\n",
    "Complete the tasks by writing your code in the provided code cells."
   ]
  },
  {
   "cell_type": "markdown",
   "id": "2d8ca7e0",
   "metadata": {},
   "source": [
    "## Pandas Basics (Series & DataFrame creation)"
   ]
  },
  {
   "cell_type": "markdown",
   "id": "30e9c368",
   "metadata": {},
   "source": [
    "**Task 1:** Create a Pandas Series from a Python list of numbers [10, 20, 30, 40, 50]."
   ]
  },
  {
   "cell_type": "code",
   "execution_count": 394,
   "id": "aa4781f5",
   "metadata": {
    "scrolled": true
   },
   "outputs": [
    {
     "name": "stdout",
     "output_type": "stream",
     "text": [
      "0    10\n",
      "1    20\n",
      "2    30\n",
      "3    40\n",
      "4    50\n",
      "dtype: int64\n"
     ]
    }
   ],
   "source": [
    "import pandas as pd\n",
    "\n",
    "\n",
    "# Python list\n",
    "list_ = [10, 20, 30, 40, 50]\n",
    "\n",
    "# Create Pandas Series\n",
    "series = pd.Series(list_)\n",
    "\n",
    "print(series)\n"
   ]
  },
  {
   "cell_type": "markdown",
   "id": "403ba998",
   "metadata": {},
   "source": [
    "**Task 2:** Create a DataFrame from a dictionary with columns: name, age, and city."
   ]
  },
  {
   "cell_type": "code",
   "execution_count": 395,
   "id": "ef60a2a1",
   "metadata": {},
   "outputs": [
    {
     "name": "stdout",
     "output_type": "stream",
     "text": [
      "  name:  age:   city\n",
      "0   Ali    18   Baku\n",
      "1  Lalə    19   Xizi\n",
      "2  Azad    20  Qusar\n"
     ]
    }
   ],
   "source": [
    "#defining the dictionary\n",
    "data={\n",
    "    \"name:\":['Ali','Lalə','Azad'],\n",
    "    \"age:\":[18,19,20],\n",
    "    \"city\":['Baku','Xizi','Qusar']\n",
    "}\n",
    "#creating DataFrame\n",
    "df=pd.DataFrame(data)\n",
    "\n",
    "#display the DataFrame\n",
    "print(df)"
   ]
  },
  {
   "cell_type": "markdown",
   "id": "7bd68b86",
   "metadata": {},
   "source": [
    "**Task 3:** Load the Iris dataset from sklearn and convert it into a Pandas DataFrame."
   ]
  },
  {
   "cell_type": "code",
   "execution_count": 396,
   "id": "b8d969c3",
   "metadata": {
    "scrolled": true
   },
   "outputs": [
    {
     "name": "stdout",
     "output_type": "stream",
     "text": [
      "   sepal length (cm)  sepal width (cm)  petal length (cm)  petal width (cm)\n",
      "0                5.1               3.5                1.4               0.2\n",
      "1                4.9               3.0                1.4               0.2\n",
      "2                4.7               3.2                1.3               0.2\n",
      "3                4.6               3.1                1.5               0.2\n",
      "4                5.0               3.6                1.4               0.2\n"
     ]
    }
   ],
   "source": [
    "from sklearn.datasets import load_iris\n",
    "\n",
    "# Load the Iris dataset\n",
    "iris = load_iris()\n",
    "\n",
    "# Convert to DataFrame\n",
    "df_iris = pd.DataFrame(data=iris.data, columns=iris.feature_names)\n",
    "\n",
    "# First 5 rows of the DataFrame\n",
    "print(df_iris.head())"
   ]
  },
  {
   "cell_type": "markdown",
   "id": "cdf09060",
   "metadata": {},
   "source": [
    "**Task 4:** Load the Titanic dataset from seaborn and display the first 10 rows."
   ]
  },
  {
   "cell_type": "code",
   "execution_count": 362,
   "id": "ac82adfa",
   "metadata": {},
   "outputs": [
    {
     "data": {
      "text/html": [
       "<div>\n",
       "<style scoped>\n",
       "    .dataframe tbody tr th:only-of-type {\n",
       "        vertical-align: middle;\n",
       "    }\n",
       "\n",
       "    .dataframe tbody tr th {\n",
       "        vertical-align: top;\n",
       "    }\n",
       "\n",
       "    .dataframe thead th {\n",
       "        text-align: right;\n",
       "    }\n",
       "</style>\n",
       "<table border=\"1\" class=\"dataframe\">\n",
       "  <thead>\n",
       "    <tr style=\"text-align: right;\">\n",
       "      <th></th>\n",
       "      <th>survived</th>\n",
       "      <th>pclass</th>\n",
       "      <th>sex</th>\n",
       "      <th>age</th>\n",
       "      <th>sibsp</th>\n",
       "      <th>parch</th>\n",
       "      <th>fare</th>\n",
       "      <th>embarked</th>\n",
       "      <th>class</th>\n",
       "      <th>who</th>\n",
       "      <th>adult_male</th>\n",
       "      <th>deck</th>\n",
       "      <th>embark_town</th>\n",
       "      <th>alive</th>\n",
       "      <th>alone</th>\n",
       "    </tr>\n",
       "  </thead>\n",
       "  <tbody>\n",
       "    <tr>\n",
       "      <th>0</th>\n",
       "      <td>0</td>\n",
       "      <td>3</td>\n",
       "      <td>male</td>\n",
       "      <td>22.0</td>\n",
       "      <td>1</td>\n",
       "      <td>0</td>\n",
       "      <td>7.2500</td>\n",
       "      <td>S</td>\n",
       "      <td>Third</td>\n",
       "      <td>man</td>\n",
       "      <td>True</td>\n",
       "      <td>NaN</td>\n",
       "      <td>Southampton</td>\n",
       "      <td>no</td>\n",
       "      <td>False</td>\n",
       "    </tr>\n",
       "    <tr>\n",
       "      <th>1</th>\n",
       "      <td>1</td>\n",
       "      <td>1</td>\n",
       "      <td>female</td>\n",
       "      <td>38.0</td>\n",
       "      <td>1</td>\n",
       "      <td>0</td>\n",
       "      <td>71.2833</td>\n",
       "      <td>C</td>\n",
       "      <td>First</td>\n",
       "      <td>woman</td>\n",
       "      <td>False</td>\n",
       "      <td>C</td>\n",
       "      <td>Cherbourg</td>\n",
       "      <td>yes</td>\n",
       "      <td>False</td>\n",
       "    </tr>\n",
       "    <tr>\n",
       "      <th>2</th>\n",
       "      <td>1</td>\n",
       "      <td>3</td>\n",
       "      <td>female</td>\n",
       "      <td>26.0</td>\n",
       "      <td>0</td>\n",
       "      <td>0</td>\n",
       "      <td>7.9250</td>\n",
       "      <td>S</td>\n",
       "      <td>Third</td>\n",
       "      <td>woman</td>\n",
       "      <td>False</td>\n",
       "      <td>NaN</td>\n",
       "      <td>Southampton</td>\n",
       "      <td>yes</td>\n",
       "      <td>True</td>\n",
       "    </tr>\n",
       "    <tr>\n",
       "      <th>3</th>\n",
       "      <td>1</td>\n",
       "      <td>1</td>\n",
       "      <td>female</td>\n",
       "      <td>35.0</td>\n",
       "      <td>1</td>\n",
       "      <td>0</td>\n",
       "      <td>53.1000</td>\n",
       "      <td>S</td>\n",
       "      <td>First</td>\n",
       "      <td>woman</td>\n",
       "      <td>False</td>\n",
       "      <td>C</td>\n",
       "      <td>Southampton</td>\n",
       "      <td>yes</td>\n",
       "      <td>False</td>\n",
       "    </tr>\n",
       "    <tr>\n",
       "      <th>4</th>\n",
       "      <td>0</td>\n",
       "      <td>3</td>\n",
       "      <td>male</td>\n",
       "      <td>35.0</td>\n",
       "      <td>0</td>\n",
       "      <td>0</td>\n",
       "      <td>8.0500</td>\n",
       "      <td>S</td>\n",
       "      <td>Third</td>\n",
       "      <td>man</td>\n",
       "      <td>True</td>\n",
       "      <td>NaN</td>\n",
       "      <td>Southampton</td>\n",
       "      <td>no</td>\n",
       "      <td>True</td>\n",
       "    </tr>\n",
       "    <tr>\n",
       "      <th>5</th>\n",
       "      <td>0</td>\n",
       "      <td>3</td>\n",
       "      <td>male</td>\n",
       "      <td>NaN</td>\n",
       "      <td>0</td>\n",
       "      <td>0</td>\n",
       "      <td>8.4583</td>\n",
       "      <td>Q</td>\n",
       "      <td>Third</td>\n",
       "      <td>man</td>\n",
       "      <td>True</td>\n",
       "      <td>NaN</td>\n",
       "      <td>Queenstown</td>\n",
       "      <td>no</td>\n",
       "      <td>True</td>\n",
       "    </tr>\n",
       "    <tr>\n",
       "      <th>6</th>\n",
       "      <td>0</td>\n",
       "      <td>1</td>\n",
       "      <td>male</td>\n",
       "      <td>54.0</td>\n",
       "      <td>0</td>\n",
       "      <td>0</td>\n",
       "      <td>51.8625</td>\n",
       "      <td>S</td>\n",
       "      <td>First</td>\n",
       "      <td>man</td>\n",
       "      <td>True</td>\n",
       "      <td>E</td>\n",
       "      <td>Southampton</td>\n",
       "      <td>no</td>\n",
       "      <td>True</td>\n",
       "    </tr>\n",
       "    <tr>\n",
       "      <th>7</th>\n",
       "      <td>0</td>\n",
       "      <td>3</td>\n",
       "      <td>male</td>\n",
       "      <td>2.0</td>\n",
       "      <td>3</td>\n",
       "      <td>1</td>\n",
       "      <td>21.0750</td>\n",
       "      <td>S</td>\n",
       "      <td>Third</td>\n",
       "      <td>child</td>\n",
       "      <td>False</td>\n",
       "      <td>NaN</td>\n",
       "      <td>Southampton</td>\n",
       "      <td>no</td>\n",
       "      <td>False</td>\n",
       "    </tr>\n",
       "    <tr>\n",
       "      <th>8</th>\n",
       "      <td>1</td>\n",
       "      <td>3</td>\n",
       "      <td>female</td>\n",
       "      <td>27.0</td>\n",
       "      <td>0</td>\n",
       "      <td>2</td>\n",
       "      <td>11.1333</td>\n",
       "      <td>S</td>\n",
       "      <td>Third</td>\n",
       "      <td>woman</td>\n",
       "      <td>False</td>\n",
       "      <td>NaN</td>\n",
       "      <td>Southampton</td>\n",
       "      <td>yes</td>\n",
       "      <td>False</td>\n",
       "    </tr>\n",
       "    <tr>\n",
       "      <th>9</th>\n",
       "      <td>1</td>\n",
       "      <td>2</td>\n",
       "      <td>female</td>\n",
       "      <td>14.0</td>\n",
       "      <td>1</td>\n",
       "      <td>0</td>\n",
       "      <td>30.0708</td>\n",
       "      <td>C</td>\n",
       "      <td>Second</td>\n",
       "      <td>child</td>\n",
       "      <td>False</td>\n",
       "      <td>NaN</td>\n",
       "      <td>Cherbourg</td>\n",
       "      <td>yes</td>\n",
       "      <td>False</td>\n",
       "    </tr>\n",
       "  </tbody>\n",
       "</table>\n",
       "</div>"
      ],
      "text/plain": [
       "   survived  pclass     sex   age  sibsp  parch     fare embarked   class  \\\n",
       "0         0       3    male  22.0      1      0   7.2500        S   Third   \n",
       "1         1       1  female  38.0      1      0  71.2833        C   First   \n",
       "2         1       3  female  26.0      0      0   7.9250        S   Third   \n",
       "3         1       1  female  35.0      1      0  53.1000        S   First   \n",
       "4         0       3    male  35.0      0      0   8.0500        S   Third   \n",
       "5         0       3    male   NaN      0      0   8.4583        Q   Third   \n",
       "6         0       1    male  54.0      0      0  51.8625        S   First   \n",
       "7         0       3    male   2.0      3      1  21.0750        S   Third   \n",
       "8         1       3  female  27.0      0      2  11.1333        S   Third   \n",
       "9         1       2  female  14.0      1      0  30.0708        C  Second   \n",
       "\n",
       "     who  adult_male deck  embark_town alive  alone  \n",
       "0    man        True  NaN  Southampton    no  False  \n",
       "1  woman       False    C    Cherbourg   yes  False  \n",
       "2  woman       False  NaN  Southampton   yes   True  \n",
       "3  woman       False    C  Southampton   yes  False  \n",
       "4    man        True  NaN  Southampton    no   True  \n",
       "5    man        True  NaN   Queenstown    no   True  \n",
       "6    man        True    E  Southampton    no   True  \n",
       "7  child       False  NaN  Southampton    no  False  \n",
       "8  woman       False  NaN  Southampton   yes  False  \n",
       "9  child       False  NaN    Cherbourg   yes  False  "
      ]
     },
     "execution_count": 362,
     "metadata": {},
     "output_type": "execute_result"
    }
   ],
   "source": [
    "# Import seaborn library\n",
    "import seaborn as sns\n",
    "\n",
    "# Load the Titanic dataset\n",
    "titanic = sns.load_dataset('titanic')\n",
    "\n",
    "# Display the first 10 rows\n",
    "df_titanic=pd.DataFrame(titanic_df)\n",
    "df_titanic.head(10)"
   ]
  },
  {
   "cell_type": "markdown",
   "id": "23506c9a",
   "metadata": {},
   "source": [
    "**Task 5:** Load the Tips dataset from seaborn and show the last 5 rows."
   ]
  },
  {
   "cell_type": "code",
   "execution_count": 363,
   "id": "412c517b",
   "metadata": {},
   "outputs": [
    {
     "name": "stdout",
     "output_type": "stream",
     "text": [
      "     total_bill   tip     sex smoker   day    time  size\n",
      "239       29.03  5.92    Male     No   Sat  Dinner     3\n",
      "240       27.18  2.00  Female    Yes   Sat  Dinner     2\n",
      "241       22.67  2.00    Male    Yes   Sat  Dinner     2\n",
      "242       17.82  1.75    Male     No   Sat  Dinner     2\n",
      "243       18.78  3.00  Female     No  Thur  Dinner     2\n"
     ]
    }
   ],
   "source": [
    "# Load the Tips dataset\n",
    "tips = sns.load_dataset('tips')\n",
    "\n",
    "df_tips=pd.DataFrame(tips)\n",
    "\n",
    "# Display the last 5 rows\n",
    "print(df_tips.tail())\n"
   ]
  },
  {
   "cell_type": "markdown",
   "id": "e4228ec1",
   "metadata": {},
   "source": [
    "## Indexing, Selecting & Filtering"
   ]
  },
  {
   "cell_type": "markdown",
   "id": "1350edc7",
   "metadata": {},
   "source": [
    "**Task 6:** From the Titanic dataset, select only the 'age', 'gender', and 'survived' columns."
   ]
  },
  {
   "cell_type": "code",
   "execution_count": 364,
   "id": "a6695e7c",
   "metadata": {},
   "outputs": [
    {
     "name": "stdout",
     "output_type": "stream",
     "text": [
      "    age     sex  survived\n",
      "0  22.0    male         0\n",
      "1  38.0  female         1\n",
      "2  26.0  female         1\n",
      "3  35.0  female         1\n",
      "4  35.0    male         0\n"
     ]
    }
   ],
   "source": [
    "# Select only 'age', 'sex', and 'survived' columns\n",
    "selected_titanic = df_titanic[['age', 'sex', 'survived']]\n",
    "\n",
    "# Display the first 5 rows\n",
    "print(selected_titanic.head())\n"
   ]
  },
  {
   "cell_type": "markdown",
   "id": "aebbc452",
   "metadata": {},
   "source": [
    "**Task 7:** From the Iris dataset, select all rows where sepal length > 5.0."
   ]
  },
  {
   "cell_type": "code",
   "execution_count": 365,
   "id": "6c66a38c",
   "metadata": {},
   "outputs": [
    {
     "name": "stdout",
     "output_type": "stream",
     "text": [
      "     sepal length (cm)  sepal width (cm)  petal length (cm)  petal width (cm)\n",
      "0                  5.1               3.5                1.4               0.2\n",
      "5                  5.4               3.9                1.7               0.4\n",
      "10                 5.4               3.7                1.5               0.2\n",
      "14                 5.8               4.0                1.2               0.2\n",
      "15                 5.7               4.4                1.5               0.4\n",
      "..                 ...               ...                ...               ...\n",
      "145                6.7               3.0                5.2               2.3\n",
      "146                6.3               2.5                5.0               1.9\n",
      "147                6.5               3.0                5.2               2.0\n",
      "148                6.2               3.4                5.4               2.3\n",
      "149                5.9               3.0                5.1               1.8\n",
      "\n",
      "[118 rows x 4 columns]\n"
     ]
    }
   ],
   "source": [
    "# Select rows where sepal length > 5.0\n",
    "filtered_iris = df_iris[df_iris['sepal length (cm)'] > 5.0]\n",
    "\n",
    "# Display all rows\n",
    "print(filtered_iris)"
   ]
  },
  {
   "cell_type": "markdown",
   "id": "3a2070f5",
   "metadata": {},
   "source": [
    "**Task 8:** From the Tips dataset, filter rows where tip > 5."
   ]
  },
  {
   "cell_type": "code",
   "execution_count": 366,
   "id": "81677974",
   "metadata": {},
   "outputs": [
    {
     "name": "stdout",
     "output_type": "stream",
     "text": [
      "    total_bill   tip     sex smoker  day    time  size\n",
      "23       39.42  7.58    Male     No  Sat  Dinner     4\n",
      "44       30.40  5.60    Male     No  Sun  Dinner     4\n",
      "47       32.40  6.00    Male     No  Sun  Dinner     4\n",
      "52       34.81  5.20  Female     No  Sun  Dinner     4\n",
      "59       48.27  6.73    Male     No  Sat  Dinner     4\n"
     ]
    }
   ],
   "source": [
    "tips_selected=df_tips[df_tips['tip']>5]\n",
    "print(tips_selected.head())"
   ]
  },
  {
   "cell_type": "markdown",
   "id": "2f472a23",
   "metadata": {},
   "source": [
    "**Task 9:** Select the first 10 rows and last 5 rows of the Titanic dataset."
   ]
  },
  {
   "cell_type": "code",
   "execution_count": 367,
   "id": "3c996a30",
   "metadata": {},
   "outputs": [
    {
     "name": "stdout",
     "output_type": "stream",
     "text": [
      "     survived  pclass     sex   age  sibsp  parch     fare embarked   class  \\\n",
      "0           0       3    male  22.0      1      0   7.2500        S   Third   \n",
      "1           1       1  female  38.0      1      0  71.2833        C   First   \n",
      "2           1       3  female  26.0      0      0   7.9250        S   Third   \n",
      "3           1       1  female  35.0      1      0  53.1000        S   First   \n",
      "4           0       3    male  35.0      0      0   8.0500        S   Third   \n",
      "5           0       3    male   NaN      0      0   8.4583        Q   Third   \n",
      "6           0       1    male  54.0      0      0  51.8625        S   First   \n",
      "7           0       3    male   2.0      3      1  21.0750        S   Third   \n",
      "8           1       3  female  27.0      0      2  11.1333        S   Third   \n",
      "9           1       2  female  14.0      1      0  30.0708        C  Second   \n",
      "886         0       2    male  27.0      0      0  13.0000        S  Second   \n",
      "887         1       1  female  19.0      0      0  30.0000        S   First   \n",
      "888         0       3  female   NaN      1      2  23.4500        S   Third   \n",
      "889         1       1    male  26.0      0      0  30.0000        C   First   \n",
      "890         0       3    male  32.0      0      0   7.7500        Q   Third   \n",
      "\n",
      "       who  adult_male deck  embark_town alive  alone  \n",
      "0      man        True  NaN  Southampton    no  False  \n",
      "1    woman       False    C    Cherbourg   yes  False  \n",
      "2    woman       False  NaN  Southampton   yes   True  \n",
      "3    woman       False    C  Southampton   yes  False  \n",
      "4      man        True  NaN  Southampton    no   True  \n",
      "5      man        True  NaN   Queenstown    no   True  \n",
      "6      man        True    E  Southampton    no   True  \n",
      "7    child       False  NaN  Southampton    no  False  \n",
      "8    woman       False  NaN  Southampton   yes  False  \n",
      "9    child       False  NaN    Cherbourg   yes  False  \n",
      "886    man        True  NaN  Southampton    no   True  \n",
      "887  woman       False    B  Southampton   yes   True  \n",
      "888  woman       False  NaN  Southampton    no  False  \n",
      "889    man        True    C    Cherbourg   yes   True  \n",
      "890    man        True  NaN   Queenstown    no   True  \n"
     ]
    }
   ],
   "source": [
    "# Get the first 10 rows\n",
    "df_titanic_head=df_titanic.head(10)\n",
    "\n",
    "# Get the last 5 rows\n",
    "df_titanic_tail=df_titanic.tail(5)\n",
    "\n",
    "# Combine them using pd.concat\n",
    "combined=pd.concat([df_titanic_first,df_titanic_last])\n",
    "\n",
    "print(combined)\n"
   ]
  },
  {
   "cell_type": "markdown",
   "id": "631f6e22",
   "metadata": {},
   "source": [
    "**Task 10:** From the Iris dataset, select rows where species is 'setosa'."
   ]
  },
  {
   "cell_type": "code",
   "execution_count": 370,
   "id": "90d79a9b",
   "metadata": {},
   "outputs": [
    {
     "name": "stdout",
     "output_type": "stream",
     "text": [
      "   sepal length (cm)  sepal width (cm)  petal length (cm)  petal width (cm)  \\\n",
      "0                5.1               3.5                1.4               0.2   \n",
      "1                4.9               3.0                1.4               0.2   \n",
      "2                4.7               3.2                1.3               0.2   \n",
      "3                4.6               3.1                1.5               0.2   \n",
      "4                5.0               3.6                1.4               0.2   \n",
      "\n",
      "  species  \n",
      "0  setosa  \n",
      "1  setosa  \n",
      "2  setosa  \n",
      "3  setosa  \n",
      "4  setosa  \n"
     ]
    }
   ],
   "source": [
    "# Load the Iris dataset\n",
    "df_iris = pd.DataFrame(data=iris.data, columns=iris.feature_names)\n",
    "\n",
    "# Add the species column\n",
    "df_iris['species'] = pd.Categorical.from_codes(iris.target, iris.target_names)\n",
    "\n",
    "# Select rows where species is 'setosa'\n",
    "setosa_df = df_iris[df_iris['species'] == 'setosa']\n",
    "\n",
    "# Display the first few rows\n",
    "print(setosa_df.head())\n"
   ]
  },
  {
   "cell_type": "markdown",
   "id": "7c165880",
   "metadata": {},
   "source": [
    "**Task 11:** From the Tips dataset, select rows where total_bill > 30 and day == 'Sun'."
   ]
  },
  {
   "cell_type": "code",
   "execution_count": 371,
   "id": "a638fa98",
   "metadata": {
    "scrolled": true
   },
   "outputs": [
    {
     "name": "stdout",
     "output_type": "stream",
     "text": [
      "     total_bill   tip     sex smoker  day    time  size\n",
      "11        35.26  5.00  Female     No  Sun  Dinner     4\n",
      "44        30.40  5.60    Male     No  Sun  Dinner     4\n",
      "47        32.40  6.00    Male     No  Sun  Dinner     4\n",
      "52        34.81  5.20  Female     No  Sun  Dinner     4\n",
      "112       38.07  4.00    Male     No  Sun  Dinner     3\n",
      "156       48.17  5.00    Male     No  Sun  Dinner     6\n",
      "167       31.71  4.50    Male     No  Sun  Dinner     4\n",
      "173       31.85  3.18    Male    Yes  Sun  Dinner     2\n",
      "175       32.90  3.11    Male    Yes  Sun  Dinner     2\n",
      "179       34.63  3.55    Male    Yes  Sun  Dinner     2\n",
      "180       34.65  3.68    Male    Yes  Sun  Dinner     4\n",
      "182       45.35  3.50    Male    Yes  Sun  Dinner     3\n",
      "184       40.55  3.00    Male    Yes  Sun  Dinner     2\n",
      "187       30.46  2.00    Male    Yes  Sun  Dinner     5\n"
     ]
    }
   ],
   "source": [
    "# Filter rows where total_bill > 30 and day == 'Sun'\n",
    "\n",
    "filtered_tips=df_tips[(df_tips['total_bill']>30)&(df_tips['day']=='Sun')]\n",
    "print(filtered_tips)"
   ]
  },
  {
   "cell_type": "markdown",
   "id": "c9836d48",
   "metadata": {},
   "source": [
    "**Task 12:** From Titanic, select passengers who are female and older than 50."
   ]
  },
  {
   "cell_type": "code",
   "execution_count": 372,
   "id": "cffb322e",
   "metadata": {},
   "outputs": [
    {
     "name": "stdout",
     "output_type": "stream",
     "text": [
      "     survived  pclass     sex   age  sibsp  parch      fare embarked   class  \\\n",
      "11          1       1  female  58.0      0      0   26.5500        S   First   \n",
      "15          1       2  female  55.0      0      0   16.0000        S  Second   \n",
      "195         1       1  female  58.0      0      0  146.5208        C   First   \n",
      "268         1       1  female  58.0      0      1  153.4625        S   First   \n",
      "275         1       1  female  63.0      1      0   77.9583        S   First   \n",
      "366         1       1  female  60.0      1      0   75.2500        C   First   \n",
      "483         1       3  female  63.0      0      0    9.5875        S   Third   \n",
      "496         1       1  female  54.0      1      0   78.2667        C   First   \n",
      "513         1       1  female  54.0      1      0   59.4000        C   First   \n",
      "571         1       1  female  53.0      2      0   51.4792        S   First   \n",
      "591         1       1  female  52.0      1      0   78.2667        C   First   \n",
      "765         1       1  female  51.0      1      0   77.9583        S   First   \n",
      "772         0       2  female  57.0      0      0   10.5000        S  Second   \n",
      "774         1       2  female  54.0      1      3   23.0000        S  Second   \n",
      "820         1       1  female  52.0      1      1   93.5000        S   First   \n",
      "829         1       1  female  62.0      0      0   80.0000      NaN   First   \n",
      "879         1       1  female  56.0      0      1   83.1583        C   First   \n",
      "\n",
      "       who  adult_male deck  embark_town alive  alone  \n",
      "11   woman       False    C  Southampton   yes   True  \n",
      "15   woman       False  NaN  Southampton   yes   True  \n",
      "195  woman       False    B    Cherbourg   yes   True  \n",
      "268  woman       False    C  Southampton   yes  False  \n",
      "275  woman       False    D  Southampton   yes  False  \n",
      "366  woman       False    D    Cherbourg   yes  False  \n",
      "483  woman       False  NaN  Southampton   yes   True  \n",
      "496  woman       False    D    Cherbourg   yes  False  \n",
      "513  woman       False  NaN    Cherbourg   yes  False  \n",
      "571  woman       False    C  Southampton   yes  False  \n",
      "591  woman       False    D    Cherbourg   yes  False  \n",
      "765  woman    