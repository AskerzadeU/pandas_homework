{
 "cells": [
  {
   "cell_type": "markdown",
   "id": "a0b2b90c",
   "metadata": {},
   "source": [
    "# 📘 Pandas Homework with Real Datasets\n",
    "\n",
    "This notebook contains **50+ tasks** to practice using the Pandas library with real datasets like Iris, Titanic, and Tips.\n",
    "\n",
    "Complete the tasks by writing your code in the provided code cells."
   ]
  },
  {
   "cell_type": "markdown",
   "id": "2d8ca7e0",
   "metadata": {},
   "source": [
    "## Pandas Basics (Series & DataFrame creation)"
   ]
  },
  {
   "cell_type": "markdown",
   "id": "30e9c368",
   "metadata": {},
   "source": [
    "**Task 1:** Create a Pandas Series from a Python list of numbers [10, 20, 30, 40, 50]."
   ]
  },
  {
   "cell_type": "code",
   "execution_count": 394,
   "id": "aa4781f5",
   "metadata": {
    "scrolled": true
   },
   "outputs": [
    {
     "name": "stdout",
     "output_type": "stream",
     "text": [
      "0    10\n",
      "1    20\n",
      "2    30\n",
      "3    40\n",
      "4    50\n",
      "dtype: int64\n"
     ]
    }
   ],
   "source": [
    "import pandas as pd\n",
    "\n",
    "\n",
    "# Python list\n",
    "list_ = [10, 20, 30, 40, 50]\n",
    "\n",
    "# Create Pandas Series\n",
    "series = pd.Series(list_)\n",
    "\n",
    "print(series)\n"
   ]
  },
  {
   "cell_type": "markdown",
   "id": "403ba998",
   "metadata": {},
   "source": [
    "**Task 2:** Create a DataFrame from a dictionary with columns: name, age, and city."
   ]
  },
  {
   "cell_type": "code",
   "execution_count": 395,
   "id": "ef60a2a1",
   "metadata": {},
   "outputs": [
    {
     "name": "stdout",
     "output_type": "stream",
     "text": [
      "  name:  age:   city\n",
      "0   Ali    18   Baku\n",
      "1  Lalə    19   Xizi\n",
      "2  Azad    20  Qusar\n"
     ]
    }
   ],
   "source": [
    "#defining the dictionary\n",
    "data={\n",
    "    \"name:\":['Ali','Lalə','Azad'],\n",
    "    \"age:\":[18,19,20],\n",
    "    \"city\":['Baku','Xizi','Qusar']\n",
    "}\n",
    "#creating DataFrame\n",
    "df=pd.DataFrame(data)\n",
    "\n",
    "#display the DataFrame\n",
    "print(df)"
   ]
  },
  {
   "cell_type": "markdown",
   "id": "7bd68b86",
   "metadata": {},
   "source": [
    "**Task 3:** Load the Iris dataset from sklearn and convert it into a Pandas DataFrame."
   ]
  },
  {
   "cell_type": "code",
   "execution_count": 396,
   "id": "b8d969c3",
   "metadata": {
    "scrolled": true
   },
   "outputs": [
    {
     "name": "stdout",
     "output_type": "stream",
     "text": [
      "   sepal length (cm)  sepal width (cm)  petal length (cm)  petal width (cm)\n",
      "0                5.1               3.5                1.4               0.2\n",
      "1                4.9               3.0                1.4               0.2\n",
      "2                4.7               3.2                1.3               0.2\n",
      "3                4.6               3.1                1.5               0.2\n",
      "4                5.0               3.6                1.4               0.2\n"
     ]
    }
   ],
   "source": [
    "from sklearn.datasets import load_iris\n",
    "\n",
    "# Load the Iris dataset\n",
    "iris = load_iris()\n",
    "\n",
    "# Convert to DataFrame\n",
    "df_iris = pd.DataFrame(data=iris.data, columns=iris.feature_names)\n",
    "\n",
    "# First 5 rows of the DataFrame\n",
    "print(df_iris.head())"
   ]
  },
  {
   "cell_type": "markdown",
   "id": "cdf09060",
   "metadata": {},
   "source": [
    "**Task 4:** Load the Titanic dataset from seaborn and display the first 10 rows."
   ]
  },
  {
   "cell_type": "code",
   "execution_count": 362,
   "id": "ac82adfa",
   "metadata": {},
   "outputs": [
    {
     "data": {
      "text/html": [
       "<div>\n",
       "<style scoped>\n",
       "    .dataframe tbody tr th:only-of-type {\n",
       "        vertical-align: middle;\n",
       "    }\n",
       "\n",
       "    .dataframe tbody tr th {\n",
       "        vertical-align: top;\n",
       "    }\n",
       "\n",
       "    .dataframe thead th {\n",
       "        text-align: right;\n",
       "    }\n",
       "</style>\n",
       "<table border=\"1\" class=\"dataframe\">\n",
       "  <thead>\n",
       "    <tr style=\"text-align: right;\">\n",
       "      <th></th>\n",
       "      <th>survived</th>\n",
       "      <th>pclass</th>\n",
       "      <th>sex</th>\n",
       "      <th>age</th>\n",
       "      <th>sibsp</th>\n",
       "      <th>parch</th>\n",
       "      <th>fare</th>\n",
       "      <th>embarked</th>\n",
       "      <th>class</th>\n",
       "      <th>who</th>\n",
       "      <th>adult_male</th>\n",
       "      <th>deck</th>\n",
       "      <th>embark_town</th>\n",
       "      <th>alive</th>\n",
       "      <th>alone</th>\n",
       "    </tr>\n",
       "  </thead>\n",
       "  <tbody>\n",
       "    <tr>\n",
       "      <th>0</th>\n",
       "      <td>0</td>\n",
       "      <td>3</td>\n",
       "      <td>male</td>\n",
       "      <td>22.0</td>\n",
       "      <td>1</td>\n",
       "      <td>0</td>\n",
       "      <td>7.2500</td>\n",
       "      <td>S</td>\n",
       "      <td>Third</td>\n",
       "      <td>man</td>\n",
       "      <td>True</td>\n",
       "      <td>NaN</td>\n",
       "      <td>Southampton</td>\n",
       "      <td>no</td>\n",
       "      <td>False</td>\n",
       "    </tr>\n",
       "    <tr>\n",
       "      <th>1</th>\n",
       "      <td>1</td>\n",
       "      <td>1</td>\n",
       "      <td>female</td>\n",
       "      <td>38.0</td>\n",
       "      <td>1</td>\n",
       "      <td>0</td>\n",
       "      <td>71.2833</td>\n",
       "      <td>C</td>\n",
       "      <td>First</td>\n",
       "      <td>woman</td>\n",
       "      <td>False</td>\n",
       "      <td>C</td>\n",
       "      <td>Cherbourg</td>\n",
       "      <td>yes</td>\n",
       "      <td>False</td>\n",
       "    </tr>\n",
       "    <tr>\n",
       "      <th>2</th>\n",
       "      <td>1</td>\n",
       "      <td>3</td>\n",
       "      <td>female</td>\n",
       "      <td>26.0</td>\n",
       "      <td>0</td>\n",
       "      <td>0</td>\n",
       "      <td>7.9250</td>\n",
       "      <td>S</td>\n",
       "      <td>Third</td>\n",
       "      <td>woman</td>\n",
       "      <td>False</td>\n",
       "      <td>NaN</td>\n",
       "      <td>Southampton</td>\n",
       "      <td>yes</td>\n",
       "      <td>True</td>\n",
       "    </tr>\n",
       "    <tr>\n",
       "      <th>3</th>\n",
       "      <td>1</td>\n",
       "      <td>1</td>\n",
       "      <td>female</td>\n",
       "      <td>35.0</td>\n",
       "      <td>1</td>\n",
       "      <td>0</td>\n",
       "      <td>53.1000</td>\n",
       "      <td>S</td>\n",
       "      <td>First</td>\n",
       "      <td>woman</td>\n",
       "      <td>False</td>\n",
       "      <td>C</td>\n",
       "      <td>Southampton</td>\n",
       "      <td>yes</td>\n",
       "      <td>False</td>\n",
       "    </tr>\n",
       "    <tr>\n",
       "      <th>4</th>\n",
       "      <td>0</td>\n",
       "      <td>3</td>\n",
       "      <td>male</td>\n",
       "      <td>35.0</td>\n",
       "      <td>0</td>\n",
       "      <td>0</td>\n",
       "      <td>8.0500</td>\n",
       "      <td>S</td>\n",
       "      <td>Third</td>\n",
       "      <td>man</td>\n",
       "      <td>True</td>\n",
       "      <td>NaN</td>\n",
       "      <td>Southampton</td>\n",
       "      <td>no</td>\n",
       "      <td>True</td>\n",
       "    </tr>\n",
       "    <tr>\n",
       "      <th>5</th>\n",
       "      <td>0</td>\n",
       "      <td>3</td>\n",
       "      <td>male</td>\n",
       "      <td>NaN</td>\n",
       "      <td>0</td>\n",
       "      <td>0</td>\n",
       "      <td>8.4583</td>\n",
       "      <td>Q</td>\n",
       "      <td>Third</td>\n",
       "      <td>man</td>\n",
       "      <td>True</td>\n",
       "      <td>NaN</td>\n",
       "      <td>Queenstown</td>\n",
       "      <td>no</td>\n",
       "      <td>True</td>\n",
       "    </tr>\n",
       "    <tr>\n",
       "      <th>6</th>\n",
       "      <td>0</td>\n",
       "      <td>1</td>\n",
       "      <td>male</td>\n",
       "      <td>54.0</td>\n",
       "      <td>0</td>\n",
       "      <td>0</td>\n",
       "      <td>51.8625</td>\n",
       "      <td>S</td>\n",
       "      <td>First</td>\n",
       "      <td>man</td>\n",
       "      <td>True</td>\n",
       "      <td>E</td>\n",
       "      <td>Southampton</td>\n",
       "      <td>no</td>\n",
       "      <td>True</td>\n",
       "    </tr>\n",
       "    <tr>\n",
       "      <th>7</th>\n",
       "      <td>0</td>\n",
       "      <td>3</td>\n",
       "      <td>male</td>\n",
       "      <td>2.0</td>\n",
       "      <td>3</td>\n",
       "      <td>1</td>\n",
       "      <td>21.0750</td>\n",
       "      <td>S</td>\n",
       "      <td>Third</td>\n",
       "      <td>child</td>\n",
       "      <td>False</td>\n",
       "      <td>NaN</td>\n",
       "      <td>Southampton</td>\n",
       "      <td>no</td>\n",
       "      <td>False</td>\n",
       "    </tr>\n",
       "    <tr>\n",
       "      <th>8</th>\n",
       "      <td>1</td>\n",
       "      <td>3</td>\n",
       "      <td>female</td>\n",
       "      <td>27.0</td>\n",
       "      <td>0</td>\n",
       "      <td>2</td>\n",
       "      <td>11.1333</td>\n",
       "      <td>S</td>\n",
       "      <td>Third</td>\n",
       "      <td>woman</td>\n",
       "      <td>False</td>\n",
       "      <td>NaN</td>\n",
       "      <td>Southampton</td>\n",
       "      <td>yes</td>\n",
       "      <td>False</td>\n",
       "    </tr>\n",
       "    <tr>\n",
       "      <th>9</th>\n",
       "      <td>1</td>\n",
       "      <td>2</td>\n",
       "      <td>female</td>\n",
       "      <td>14.0</td>\n",
       "      <td>1</td>\n",
       "      <td>0</td>\n",
       "      <td>30.0708</td>\n",
       "      <td>C</td>\n",
       "      <td>Second</td>\n",
       "      <td>child</td>\n",
       "      <td>False</td>\n",
       "      <td>NaN</td>\n",
       "      <td>Cherbourg</td>\n",
       "      <td>yes</td>\n",
       "      <td>False</td>\n",
       "    </tr>\n",
       "  </tbody>\n",
       "</table>\n",
       "</div>"
      ],
      "text/plain": [
       "   survived  pclass     sex   age  sibsp  parch     fare embarked   class  \\\n",
       "0         0       3    male  22.0      1      0   7.2500        S   Third   \n",
       "1         1       1  female  38.0      1      0  71.2833        C   First   \n",
       "2         1       3  female  26.0      0      0   7.9250        S   Third   \n",
       "3         1       1  female  35.0      1      0  53.1000        S   First   \n",
       "4         0       3    male  35.0      0      0   8.0500        S   Third   \n",
       "5         0       3    male   NaN      0      0   8.4583        Q   Third   \n",
       "6         0       1    male  54.0      0      0  51.8625        S   First   \n",
       "7         0       3    male   2.0      3      1  21.0750        S   Third   \n",
       "8         1       3  female  27.0      0      2  11.1333        S   Third   \n",
       "9         1       2  female  14.0      1      0  30.0708        C  Second   \n",
       "\n",
       "     who  adult_male deck  embark_town alive  alone  \n",
       "0    man        True  NaN  Southampton    no  False  \n",
       "1  woman       False    C    Cherbourg   yes  False  \n",
       "2  woman       False  NaN  Southampton   yes   True  \n",
       "3  woman       False    C  Southampton   yes  False  \n",
       "4    man        True  NaN  Southampton    no   True  \n",
       "5    man        True  NaN   Queenstown    no   True  \n",
       "6    man        True    E  Southampton    no   True  \n",
       "7  child       False  NaN  Southampton    no  False  \n",
       "8  woman       False  NaN  Southampton   yes  False  \n",
       "9  child       False  NaN    Cherbourg   yes  False  "
      ]
     },
     "execution_count": 362,
     "metadata": {},
     "output_type": "execute_result"
    }
   ],
   "source": [
    "# Import seaborn library\n",
    "import seaborn as sns\n",
    "\n",
    "# Load the Titanic dataset\n",
    "titanic = sns.load_dataset('titanic')\n",
    "\n",
    "# Display the first 10 rows\n",
    "df_titanic=pd.DataFrame(titanic_df)\n",
    "df_titanic.head(10)"
   ]
  },
  {
   "cell_type": "markdown",
   "id": "23506c9a",
   "metadata": {},
   "source": [
    "**Task 5:** Load the Tips dataset from seaborn and show the last 5 rows."
   ]
  },
  {
   "cell_type": "code",
   "execution_count": 363,
   "id": "412c517b",
   "metadata": {},
   "outputs": [
    {
     "name": "stdout",
     "output_type": "stream",
     "text": [
      "     total_bill   tip     sex smoker   day    time  size\n",
      "239       29.03  5.92    Male     No   Sat  Dinner     3\n",
      "240       27.18  2.00  Female    Yes   Sat  Dinner     2\n",
      "241       22.67  2.00    Male    Yes   Sat  Dinner     2\n",
      "242       17.82  1.75    Male     No   Sat  Dinner     2\n",
      "243       18.78  3.00  Female     No  Thur  Dinner     2\n"
     ]
    }
   ],
   "source": [
    "# Load the Tips dataset\n",
    "tips = sns.load_dataset('tips')\n",
    "\n",
    "df_tips=pd.DataFrame(tips)\n",
    "\n",
    "# Display the last 5 rows\n",
    "print(df_tips.tail())\n"
   ]
  },
  {
   "cell_type": "markdown",
   "id": "e4228ec1",
   "metadata": {},
   "source": [
    "## Indexing, Selecting & Filtering"
   ]
  },
  {
   "cell_type": "markdown",
   "id": "1350edc7",
   "metadata": {},
   "source": [
    "**Task 6:** From the Titanic dataset, select only the 'age', 'gender', and 'survived' columns."
   ]
  },
  {
   "cell_type": "code",
   "execution_count": 364,
   "id": "a6695e7c",
   "metadata": {},
   "outputs": [
    {
     "name": "stdout",
     "output_type": "stream",
     "text": [
      "    age     sex  survived\n",
      "0  22.0    male         0\n",
      "1  38.0  female         1\n",
      "2  26.0  female         1\n",
      "3  35.0  female         1\n",
      "4  35.0    male         0\n"
     ]
    }
   ],
   "source": [
    "# Select only 'age', 'sex', and 'survived' columns\n",
    "selected_titanic = df_titanic[['age', 'sex', 'survived']]\n",
    "\n",
    "# Display the first 5 rows\n",
    "print(selected_titanic.head())\n"
   ]
  },
  {
   "cell_type": "markdown",
   "id": "aebbc452",
   "metadata": {},
   "source": [
    "**Task 7:** From the Iris dataset, select all rows where sepal length > 5.0."
   ]
  },
  {
   "cell_type": "code",
   "execution_count": 365,
   "id": "6c66a38c",
   "metadata": {},
   "outputs": [
    {
     "name": "stdout",
     "output_type": "stream",
     "text": [
      "     sepal length (cm)  sepal width (cm)  petal length (cm)  petal width (cm)\n",
      "0                  5.1               3.5                1.4               0.2\n",
      "5                  5.4               3.9                1.7               0.4\n",
      "10                 5.4               3.7                1.5               0.2\n",
      "14                 5.8               4.0                1.2               0.2\n",
      "15                 5.7               4.4                1.5               0.4\n",
      "..                 ...               ...                ...               ...\n",
      "145                6.7               3.0                5.2               2.3\n",
      "146                6.3               2.5                5.0               1.9\n",
      "147                6.5               3.0                5.2               2.0\n",
      "148                6.2               3.4                5.4               2.3\n",
      "149                5.9               3.0                5.1               1.8\n",
      "\n",
      "[118 rows x 4 columns]\n"
     ]
    }
   ],
   "source": [
    "# Select rows where sepal length > 5.0\n",
    "filtered_iris = df_iris[df_iris['sepal length (cm)'] > 5.0]\n",
    "\n",
    "# Display all rows\n",
    "print(filtered_iris)"
   ]
  },
  {
   "cell_type": "markdown",
   "id": "3a2070f5",
   "metadata": {},
   "source": [
    "**Task 8:** From the Tips dataset, filter rows where tip > 5."
   ]
  },
  {
   "cell_type": "code",
   "execution_count": 366,
   "id": "81677974",
   "metadata": {},
   "outputs": [
    {
     "name": "stdout",
     "output_type": "stream",
     "text": [
      "    total_bill   tip     sex smoker  day    time  size\n",
      "23       39.42  7.58    Male     No  Sat  Dinner     4\n",
      "44       30.40  5.60    Male     No  Sun  Dinner     4\n",
      "47       32.40  6.00    Male     No  Sun  Dinner     4\n",
      "52       34.81  5.20  Female     No  Sun  Dinner     4\n",
      "59       48.27  6.73    Male     No  Sat  Dinner     4\n"
     ]
    }
   ],
   "source": [
    "tips_selected=df_tips[df_tips['tip']>5]\n",
    "print(tips_selected.head())"
   ]
  },
  {
   "cell_type": "markdown",
   "id": "2f472a23",
   "metadata": {},
   "source": [
    "**Task 9:** Select the first 10 rows and last 5 rows of the Titanic dataset."
   ]
  },
  {
   "cell_type": "code",
   "execution_count": 367,
   "id": "3c996a30",
   "metadata": {},
   "outputs": [
    {
     "name": "stdout",
     "output_type": "stream",
     "text": [
      "     survived  pclass     sex   age  sibsp  parch     fare embarked   class  \\\n",
      "0           0       3    male  22.0      1      0   7.2500        S   Third   \n",
      "1           1       1  female  38.0      1      0  71.2833        C   First   \n",
      "2           1       3  female  26.0      0      0   7.9250        S   Third   \n",
      "3           1       1  female  35.0      1      0  53.1000        S   First   \n",
      "4           0       3    male  35.0      0      0   8.0500        S   Third   \n",
      "5           0       3    male   NaN      0      0   8.4583        Q   Third   \n",
      "6           0       1    male  54.0      0      0  51.8625        S   First   \n",
      "7           0       3    male   2.0      3      1  21.0750        S   Third   \n",
      "8           1       3  female  27.0      0      2  11.1333        S   Third   \n",
      "9           1       2  female  14.0      1      0  30.0708        C  Second   \n",
      "886         0       2    male  27.0      0      0  13.0000        S  Second   \n",
      "887         1       1  female  19.0      0      0  30.0000        S   First   \n",
      "888         0       3  female   NaN      1      2  23.4500        S   Third   \n",
      "889         1       1    male  26.0      0      0  30.0000        C   First   \n",
      "890         0       3    male  32.0      0      0   7.7500        Q   Third   \n",
      "\n",
      "       who  adult_male deck  embark_town alive  alone  \n",
      "0      man        True  NaN  Southampton    no  False  \n",
      "1    woman       False    C    Cherbourg   yes  False  \n",
      "2    woman       False  NaN  Southampton   yes   True  \n",
      "3    woman       False    C  Southampton   yes  False  \n",
      "4      man        True  NaN  Southampton    no   True  \n",
      "5      man        True  NaN   Queenstown    no   True  \n",
      "6      man        True    E  Southampton    no   True  \n",
      "7    child       False  NaN  Southampton    no  False  \n",
      "8    woman       False  NaN  Southampton   yes  False  \n",
      "9    child       False  NaN    Cherbourg   yes  False  \n",
      "886    man        True  NaN  Southampton    no   True  \n",
      "887  woman       False    B  Southampton   yes   True  \n",
      "888  woman       False  NaN  Southampton    no  False  \n",
      "889    man        True    C    Cherbourg   yes   True  \n",
      "890    man        True  NaN   Queenstown    no   True  \n"
     ]
    }
   ],
   "source": [
    "# Get the first 10 rows\n",
    "df_titanic_head=df_titanic.head(10)\n",
    "\n",
    "# Get the last 5 rows\n",
    "df_titanic_tail=df_titanic.tail(5)\n",
    "\n",
    "# Combine them using pd.concat\n",
    "combined=pd.concat([df_titanic_first,df_titanic_last])\n",
    "\n",
    "print(combined)\n"
   ]
  },
  {
   "cell_type": "markdown",
   "id": "631f6e22",
   "metadata": {},
   "source": [
    "**Task 10:** From the Iris dataset, select rows where species is 'setosa'."
   ]
  },
  {
   "cell_type": "code",
   "execution_count": 370,
   "id": "90d79a9b",
   "metadata": {},
   "outputs": [
    {
     "name": "stdout",
     "output_type": "stream",
     "text": [
      "   sepal length (cm)  sepal width (cm)  petal length (cm)  petal width (cm)  \\\n",
      "0                5.1               3.5                1.4               0.2   \n",
      "1                4.9               3.0                1.4               0.2   \n",
      "2                4.7               3.2                1.3               0.2   \n",
      "3                4.6               3.1                1.5               0.2   \n",
      "4                5.0               3.6                1.4               0.2   \n",
      "\n",
      "  species  \n",
      "0  setosa  \n",
      "1  setosa  \n",
      "2  setosa  \n",
      "3  setosa  \n",
      "4  setosa  \n"
     ]
    }
   ],
   "source": [
    "# Load the Iris dataset\n",
    "df_iris = pd.DataFrame(data=iris.data, columns=iris.feature_names)\n",
    "\n",
    "# Add the species column\n",
    "df_iris['species'] = pd.Categorical.from_codes(iris.target, iris.target_names)\n",
    "\n",
    "# Select rows where species is 'setosa'\n",
    "setosa_df = df_iris[df_iris['species'] == 'setosa']\n",
    "\n",
    "# Display the first few rows\n",
    "print(setosa_df.head())\n"
   ]
  },
  {
   "cell_type": "markdown",
   "id": "7c165880",
   "metadata": {},
   "source": [
    "**Task 11:** From the Tips dataset, select rows where total_bill > 30 and day == 'Sun'."
   ]
  },
  {
   "cell_type": "code",
   "execution_count": 371,
   "id": "a638fa98",
   "metadata": {
    "scrolled": true
   },
   "outputs": [
    {
     "name": "stdout",
     "output_type": "stream",
     "text": [
      "     total_bill   tip     sex smoker  day    time  size\n",
      "11        35.26  5.00  Female     No  Sun  Dinner     4\n",
      "44        30.40  5.60    Male     No  Sun  Dinner     4\n",
      "47        32.40  6.00    Male     No  Sun  Dinner     4\n",
      "52        34.81  5.20  Female     No  Sun  Dinner     4\n",
      "112       38.07  4.00    Male     No  Sun  Dinner     3\n",
      "156       48.17  5.00    Male     No  Sun  Dinner     6\n",
      "167       31.71  4.50    Male     No  Sun  Dinner     4\n",
      "173       31.85  3.18    Male    Yes  Sun  Dinner     2\n",
      "175       32.90  3.11    Male    Yes  Sun  Dinner     2\n",
      "179       34.63  3.55    Male    Yes  Sun  Dinner     2\n",
      "180       34.65  3.68    Male    Yes  Sun  Dinner     4\n",
      "182       45.35  3.50    Male    Yes  Sun  Dinner     3\n",
      "184       40.55  3.00    Male    Yes  Sun  Dinner     2\n",
      "187       30.46  2.00    Male    Yes  Sun  Dinner     5\n"
     ]
    }
   ],
   "source": [
    "# Filter rows where total_bill > 30 and day == 'Sun'\n",
    "\n",
    "filtered_tips=df_tips[(df_tips['total_bill']>30)&(df_tips['day']=='Sun')]\n",
    "print(filtered_tips)"
   ]
  },
  {
   "cell_type": "markdown",
   "id": "c9836d48",
   "metadata": {},
   "source": [
    "**Task 12:** From Titanic, select passengers who are female and older than 50."
   ]
  },
  {
   "cell_type": "code",
   "execution_count": 372,
   "id": "cffb322e",
   "metadata": {},
   "outputs": [
    {
     "name": "stdout",
     "output_type": "stream",
     "text": [
      "     survived  pclass     sex   age  sibsp  parch      fare embarked   class  \\\n",
      "11          1       1  female  58.0      0      0   26.5500        S   First   \n",
      "15          1       2  female  55.0      0      0   16.0000        S  Second   \n",
      "195         1       1  female  58.0      0      0  146.5208        C   First   \n",
      "268         1       1  female  58.0      0      1  153.4625        S   First   \n",
      "275         1       1  female  63.0      1      0   77.9583        S   First   \n",
      "366         1       1  female  60.0      1      0   75.2500        C   First   \n",
      "483         1       3  female  63.0      0      0    9.5875        S   Third   \n",
      "496         1       1  female  54.0      1      0   78.2667        C   First   \n",
      "513         1       1  female  54.0      1      0   59.4000        C   First   \n",
      "571         1       1  female  53.0      2      0   51.4792        S   First   \n",
      "591         1       1  female  52.0      1      0   78.2667        C   First   \n",
      "765         1       1  female  51.0      1      0   77.9583        S   First   \n",
      "772         0       2  female  57.0      0      0   10.5000        S  Second   \n",
      "774         1       2  female  54.0      1      3   23.0000        S  Second   \n",
      "820         1       1  female  52.0      1      1   93.5000        S   First   \n",
      "829         1       1  female  62.0      0      0   80.0000      NaN   First   \n",
      "879         1       1  female  56.0      0      1   83.1583        C   First   \n",
      "\n",
      "       who  adult_male deck  embark_town alive  alone  \n",
      "11   woman       False    C  Southampton   yes   True  \n",
      "15   woman       False  NaN  Southampton   yes   True  \n",
      "195  woman       False    B    Cherbourg   yes   True  \n",
      "268  woman       False    C  Southampton   yes  False  \n",
      "275  woman       False    D  Southampton   yes  False  \n",
      "366  woman       False    D    Cherbourg   yes  False  \n",
      "483  woman       False  NaN  Southampton   yes   True  \n",
      "496  woman       False    D    Cherbourg   yes  False  \n",
      "513  woman       False  NaN    Cherbourg   yes  False  \n",
      "571  woman       False    C  Southampton   yes  False  \n",
      "591  woman       False    D    Cherbourg   yes  False  \n",
      "765  woman       False    D  Southampton   yes  False  \n",
      "772  woman       False    E  Southampton    no   True  \n",
      "774  woman       False  NaN  Southampton   yes  False  \n",
      "820  woman       False    B  Southampton   yes  False  \n",
      "829  woman       False    B          NaN   yes   True  \n",
      "879  woman       False    C    Cherbourg   yes  False  \n"
     ]
    }
   ],
   "source": [
    "# Select passengers who are female and older than 50\n",
    "filtered_titanic=df_titanic[(df_titanic['sex']=='female')&(df_titanic['age']>50)]\n",
    "\n",
    "print(filtered_titanic)"
   ]
  },
  {
   "cell_type": "markdown",
   "id": "8206736b",
   "metadata": {},
   "source": [
    "**Task 13:** Select every 3rd row from the Iris dataset."
   ]
  },
  {
   "cell_type": "code",
   "execution_count": 373,
   "id": "9e32a30f",
   "metadata": {},
   "outputs": [],
   "source": [
    "# Select every 3rd row\n",
    "\n",
    "iris_selected=df_iris.iloc[::3]\n"
   ]
  },
  {
   "cell_type": "markdown",
   "id": "e2ee19ed",
   "metadata": {},
   "source": [
    "## Data Cleaning (missing values, duplicates, replace, etc.)"
   ]
  },
  {
   "cell_type": "markdown",
   "id": "6fdb48d3",
   "metadata": {},
   "source": [
    "**Task 14:** Check how many missing values are in the Titanic dataset."
   ]
  },
  {
   "cell_type": "code",
   "execution_count": 385,
   "id": "3a62be54",
   "metadata": {},
   "outputs": [
    {
     "name": "stdout",
     "output_type": "stream",
     "text": [
      "survived         0\n",
      "pclass           0\n",
      "sex              0\n",
      "age              0\n",
      "sibsp            0\n",
      "parch            0\n",
      "fare             0\n",
      "embarked         2\n",
      "class            0\n",
      "who              0\n",
      "adult_male       0\n",
      "deck           688\n",
      "embark_town      2\n",
      "alive            0\n",
      "alone            0\n",
      "dtype: int64\n"
     ]
    }
   ],
   "source": [
    "titanic_null=df_titanic.isnull().sum()\n",
    "print(titanic_null)"
   ]
  },
  {
   "cell_type": "markdown",
   "id": "7251265c",
   "metadata": {},
   "source": [
    "**Task 15:** Fill missing values in the Titanic dataset 'age' column with the mean age."
   ]
  },
  {
   "cell_type": "code",
   "execution_count": 387,
   "id": "a4922131",
   "metadata": {},
   "outputs": [
    {
     "data": {
      "text/plain": [
       "survived         0\n",
       "pclass           0\n",
       "sex              0\n",
       "age              0\n",
       "sibsp            0\n",
       "parch            0\n",
       "fare             0\n",
       "embarked         2\n",
       "class            0\n",
       "who              0\n",
       "adult_male       0\n",
       "deck           688\n",
       "embark_town      2\n",
       "alive            0\n",
       "alone            0\n",
       "dtype: int64"
      ]
     },
     "execution_count": 387,
     "metadata": {},
     "output_type": "execute_result"
    }
   ],
   "source": [
    "df_titanic['age']=df_titanic['age'].mean()\n",
    "\n",
    "df_titanic.isnull().sum()"
   ]
  },
  {
   "cell_type": "markdown",
   "id": "b9628e9a",
   "metadata": {},
   "source": [
    "**Task 16:** Drop rows in Titanic where 'embarked' is missing."
   ]
  },
  {
   "cell_type": "code",
   "execution_count": 397,
   "id": "d760f758",
   "metadata": {},
   "outputs": [
    {
     "name": "stdout",
     "output_type": "stream",
     "text": [
      "survived         0\n",
      "pclass           0\n",
      "sex              0\n",
      "age              0\n",
      "sibsp            0\n",
      "parch            0\n",
      "fare             0\n",
      "embarked         0\n",
      "class            0\n",
      "who              0\n",
      "adult_male       0\n",
      "deck           688\n",
      "embark_town      0\n",
      "alive            0\n",
      "alone            0\n",
      "dtype: int64\n"
     ]
    }
   ],
   "source": [
    "# Drop rows where 'embarked' is NaN\n",
    "df_titanic_ = df_titanic.dropna(subset=['embarked'],inplace=False)\n",
    "\n",
    "# Show the number of missing values in each column\n",
    "print(df_titanic_.isnull().sum())\n"
   ]
  },
  {
   "cell_type": "markdown",
   "id": "af4a5ac5",
   "metadata": {},
   "source": [
    "**Task 17:** Check for duplicates in the Tips dataset and remove them if found."
   ]
  },
  {
   "cell_type": "code",
   "execution_count": 398,
   "id": "c4a736bd",
   "metadata": {},
   "outputs": [
    {
     "name": "stdout",
     "output_type": "stream",
     "text": [
      "(244, 7)\n",
      "(243, 7)\n"
     ]
    }
   ],
   "source": [
    "# Count how many duplicated rows exist\n",
    "df_tips.duplicated().sum()\n",
    "# Drop duplicate rows\n",
    "df_tips_cleaned= df_tips.drop_duplicates()\n",
    "# Show the new shape of the dataset\n",
    "print(df_tips.shape)\n",
    "print(df_tips_cleaned.shape)"
   ]
  },
  {
   "cell_type": "markdown",
   "id": "cc9677ed",
   "metadata": {},
   "source": [
    "**Task 18:** Replace all 'male' values with 'M' and 'female' with 'F' in Titanic."
   ]
  },
  {
   "cell_type": "code",
   "execution_count": 399,
   "id": "0538892d",
   "metadata": {},
   "outputs": [
    {
     "data": {
      "text/html": [
       "<div>\n",
       "<style scoped>\n",
       "    .dataframe tbody tr th:only-of-type {\n",
       "        vertical-align: middle;\n",
       "    }\n",
       "\n",
       "    .dataframe tbody tr th {\n",
       "        vertical-align: top;\n",
       "    }\n",
       "\n",
       "    .dataframe thead th {\n",
       "        text-align: right;\n",
       "    }\n",
       "</style>\n",
       "<table border=\"1\" class=\"dataframe\">\n",
       "  <thead>\n",
       "    <tr style=\"text-align: right;\">\n",
       "      <th></th>\n",
       "      <th>survived</th>\n",
       "      <th>pclass</th>\n",
       "      <th>sex</th>\n",
       "      <th>age</th>\n",
       "      <th>sibsp</th>\n",
       "      <th>parch</th>\n",
       "      <th>fare</th>\n",
       "      <th>embarked</th>\n",
       "      <th>class</th>\n",
       "      <th>who</th>\n",
       "      <th>adult_male</th>\n",
       "      <th>deck</th>\n",
       "      <th>embark_town</th>\n",
       "      <th>alive</th>\n",
       "      <th>alone</th>\n",
       "    </tr>\n",
       "  </thead>\n",
       "  <tbody>\n",
       "    <tr>\n",
       "      <th>0</th>\n",
       "      <td>0</td>\n",
       "      <td>3</td>\n",
       "      <td>M</td>\n",
       "      <td>29.699118</td>\n",
       "      <td>1</td>\n",
       "      <td>0</td>\n",
       "      <td>7.2500</td>\n",
       "      <td>S</td>\n",
       "      <td>Third</td>\n",
       "      <td>man</td>\n",
       "      <td>True</td>\n",
       "      <td>NaN</td>\n",
       "      <td>Southampton</td>\n",
       "      <td>no</td>\n",
       "      <td>False</td>\n",
       "    </tr>\n",
       "    <tr>\n",
       "      <th>1</th>\n",
       "      <td>1</td>\n",
       "      <td>1</td>\n",
       "      <td>F</td>\n",
       "      <td>29.699118</td>\n",
       "      <td>1</td>\n",
       "      <td>0</td>\n",
       "      <td>71.2833</td>\n",
       "      <td>C</td>\n",
       "      <td>First</td>\n",
       "      <td>woman</td>\n",
       "      <td>False</td>\n",
       "      <td>C</td>\n",
       "      <td>Cherbourg</td>\n",
       "      <td>yes</td>\n",
       "      <td>False</td>\n",
       "    </tr>\n",
       "    <tr>\n",
       "      <th>2</th>\n",
       "      <td>1</td>\n",
       "      <td>3</td>\n",
       "      <td>F</td>\n",
       "      <td>29.699118</td>\n",
       "      <td>0</td>\n",
       "      <td>0</td>\n",
       "      <td>7.9250</td>\n",
       "      <td>S</td>\n",
       "      <td>Third</td>\n",
       "      <td>woman</td>\n",
       "      <td>False</td>\n",
       "      <td>NaN</td>\n",
       "      <td>Southampton</td>\n",
       "      <td>yes</td>\n",
       "      <td>True</td>\n",
       "    </tr>\n",
       "  </tbody>\n",
       "</table>\n",
       "</div>"
      ],
      "text/plain": [
       "   survived  pclass sex        age  sibsp  parch     fare embarked  class  \\\n",
       "0         0       3   M  29.699118      1      0   7.2500        S  Third   \n",
       "1         1       1   F  29.699118      1      0  71.2833        C  First   \n",
       "2         1       3   F  29.699118      0      0   7.9250        S  Third   \n",
       "\n",
       "     who  adult_male deck  embark_town alive  alone  \n",
       "0    man        True  NaN  Southampton    no  False  \n",
       "1  woman       False    C    Cherbourg   yes  False  \n",
       "2  woman       False  NaN  Southampton   yes   True  "
      ]
     },
     "execution_count": 399,
     "metadata": {},
     "output_type": "execute_result"
    }
   ],
   "source": [
    "# Replace 'male' -> 'M' and 'female' -> 'F'\n",
    "df_titanic['sex']=df_titanic['sex'].replace({'male':'M','female':'F'})\n",
    "\n",
    "\n",
    "# Show first few rows to check the result\n",
    "df_titanic.head(3)"
   ]
  },
  {
   "cell_type": "markdown",
   "id": "917a6a48",
   "metadata": {},
   "source": [
    "**Task 19:** Change column names in Iris dataset to uppercase."
   ]
  },
  {
   "cell_type": "code",
   "execution_count": 400,
   "id": "40db5f40",
   "metadata": {},
   "outputs": [
    {
     "name": "stdout",
     "output_type": "stream",
     "text": [
      "   SEPAL LENGTH (CM)  SEPAL WIDTH (CM)  PETAL LENGTH (CM)  PETAL WIDTH (CM)\n",
      "0                5.1               3.5                1.4               0.2\n",
      "1                4.9               3.0                1.4               0.2\n",
      "2                4.7               3.2                1.3               0.2\n"
     ]
    }
   ],
   "source": [
    "# Change all column names to uppercase\n",
    "df_iris.columns = df_iris.columns.str.upper()\n",
    "\n",
    "# Show first few rows\n",
    "print(df_iris.head(3))"
   ]
  },
  {
   "cell_type": "markdown",
   "id": "5a80bd5a",
   "metadata": {},
   "source": [
    "**Task 20:** In Titanic, convert the 'sex' column into categorical type."
   ]
  },
  {
   "cell_type": "code",
   "execution_count": 401,
   "id": "1271200c",
   "metadata": {},
   "outputs": [
    {
     "name": "stdout",
     "output_type": "stream",
     "text": [
      "category\n",
      "Index(['F', 'M'], dtype='object')\n"
     ]
    }
   ],
   "source": [
    "# Convert 'sex' column to categorical type\n",
    "df_titanic['sex'] = df_titanic['sex'].astype('category')\n",
    "\n",
    "# Check the data type\n",
    "print(df_titanic.dtypes['sex'])\n",
    "\n",
    "# Show categories\n",
    "print(df_titanic['sex'].cat.categories)\n"
   ]
  },
  {
   "cell_type": "markdown",
   "id": "1e3e20ec",
   "metadata": {},
   "source": [
    "## Data Aggregation & GroupBy"
   ]
  },
  {
   "cell_type": "markdown",
   "id": "5dfae6d7",
   "metadata": {},
   "source": [
    "**Task 21:** Using the Tips dataset, find the average tip given by male vs. female customers."
   ]
  },
  {
   "cell_type": "code",
   "execution_count": 402,
   "id": "49ef8d25",
   "metadata": {},
   "outputs": [
    {
     "name": "stdout",
     "output_type": "stream",
     "text": [
      "sex\n",
      "Male      3.089618\n",
      "Female    2.833448\n",
      "Name: tip, dtype: float64\n"
     ]
    },
    {
     "name": "stderr",
     "output_type": "stream",
     "text": [
      "/var/folders/zc/byg18hq95jb1p5smz74x8s8h0000gn/T/ipykernel_51946/2135326352.py:2: FutureWarning: The default of observed=False is deprecated and will be changed to True in a future version of pandas. Pass observed=False to retain current behavior or observed=True to adopt the future default and silence this warning.\n",
      "  mean_tip_by_sex = df_tips.groupby('sex')['tip'].mean()\n"
     ]
    }
   ],
   "source": [
    "# Calculate mean tip for each sex\n",
    "mean_tip_by_sex = df_tips.groupby('sex')['tip'].mean()\n",
    "\n",
    "print(mean_tip_by_sex)"
   ]
  },
  {
   "cell_type": "markdown",
   "id": "0724aff4",
   "metadata": {},
   "source": [
    "**Task 22:** Using Titanic, calculate the survival rate by passenger class."
   ]
  },
  {
   "cell_type": "code",
   "execution_count": 403,
   "id": "a9dd4425",
   "metadata": {},
   "outputs": [
    {
     "name": "stdout",
     "output_type": "stream",
     "text": [
      "pclass\n",
      "1    0.629630\n",
      "2    0.472826\n",
      "3    0.242363\n",
      "Name: survived, dtype: float64\n"
     ]
    }
   ],
   "source": [
    "# Calculate survival rate by passenger class (pclass)\n",
    "survival_rate_by_class = df_titanic.groupby('pclass')['survived'].mean()\n",
    "print(survival_rate_by_class)"
   ]
  },
  {
   "cell_type": "markdown",
   "id": "498d971c",
   "metadata": {},
   "source": [
    "**Task 23:** Group the Iris dataset by species and find the mean sepal length."
   ]
  },
  {
   "cell_type": "code",
   "execution_count": 188,
   "id": "cc19b0dc",
   "metadata": {},
   "outputs": [
    {
     "name": "stdout",
     "output_type": "stream",
     "text": [
      "SPECIES\n",
      "setosa        5.006\n",
      "versicolor    5.936\n",
      "virginica     6.588\n",
      "Name: SEPAL LENGTH (CM), dtype: float64\n"
     ]
    },
    {
     "name": "stderr",
     "output_type": "stream",
     "text": [
      "/var/folders/zc/byg18hq95jb1p5smz74x8s8h0000gn/T/ipykernel_51946/317371211.py:2: FutureWarning: The default of observed=False is deprecated and will be changed to True in a future version of pandas. Pass observed=False to retain current behavior or observed=True to adopt the future default and silence this warning.\n",
      "  mean_sepal_length=df_iris.groupby('SPECIES')['SEPAL LENGTH (CM)'].mean()\n"
     ]
    }
   ],
   "source": [
    "# Group by species and calculate mean sepal length\n",
    "mean_sepal_length=df_iris.groupby('SPECIES')['SEPAL LENGTH (CM)'].mean()\n",
    "print(mean_sepal_length)"
   ]
  },
  {
   "cell_type": "markdown",
   "id": "3bcb01cc",
   "metadata": {},
   "source": [
    "**Task 24:** Using Tips, find the maximum total_bill by day of the week."
   ]
  },
  {
   "cell_type": "code",
   "execution_count": 193,
   "id": "e351be18",
   "metadata": {},
   "outputs": [
    {
     "name": "stdout",
     "output_type": "stream",
     "text": [
      "day\n",
      "Thur    43.11\n",
      "Fri     40.17\n",
      "Sat     50.81\n",
      "Sun     48.17\n",
      "Name: total_bill, dtype: float64\n"
     ]
    },
    {
     "name": "stderr",
     "output_type": "stream",
     "text": [
      "/var/folders/zc/byg18hq95jb1p5smz74x8s8h0000gn/T/ipykernel_51946/3268945546.py:2: FutureWarning: The default of observed=False is deprecated and will be changed to True in a future version of pandas. Pass observed=False to retain current behavior or observed=True to adopt the future default and silence this warning.\n",
      "  max_total_bill_by_day=df_tips.groupby('day')['total_bill'].max()\n"
     ]
    }
   ],
   "source": [
    "# Group by 'day' and find the maximum total_bill\n",
    "max_total_bill_by_day=df_tips.groupby('day')['total_bill'].max()\n",
    "\n",
    "print(max_total_bill_by_day)"
   ]
  },
  {
   "cell_type": "markdown",
   "id": "6bcb0d9a",
   "metadata": {},
   "source": [
    "**Task 25:** From Titanic, calculate average age by survival status."
   ]
  },
  {
   "cell_type": "code",
   "execution_count": 215,
   "id": "9bac1d13",
   "metadata": {},
   "outputs": [
    {
     "name": "stdout",
     "output_type": "stream",
     "text": [
      "survived\n",
      "0    30.626179\n",
      "1    28.343690\n",
      "Name: age, dtype: float64\n"
     ]
    }
   ],
   "source": [
    "# Group by 'survived' and calculate average age\n",
    "avg_age_by_survival = df_titanic.groupby('survived')['age'].mean()\n",
    "\n",
    "print(avg_age_by_survival)"
   ]
  },
  {
   "cell_type": "markdown",
   "id": "3a8319b7",
   "metadata": {},
   "source": [
    "**Task 26:** Group Titanic data by 'sex' and 'class' to find survival counts."
   ]
  },
  {
   "cell_type": "code",
   "execution_count": 221,
   "id": "0dc4cca6",
   "metadata": {},
   "outputs": [
    {
     "name": "stdout",
     "output_type": "stream",
     "text": [
      "sex  class \n",
      "F    First      94\n",
      "     Second     76\n",
      "     Third     144\n",
      "M    First     122\n",
      "     Second    108\n",
      "     Third     347\n",
      "Name: survived, dtype: int64\n"
     ]
    },
    {
     "name": "stderr",
     "output_type": "stream",
     "text": [
      "/var/folders/zc/byg18hq95jb1p5smz74x8s8h0000gn/T/ipykernel_51946/2337532440.py:2: FutureWarning: The default of observed=False is deprecated and will be changed to True in a future version of pandas. Pass observed=False to retain current behavior or observed=True to adopt the future default and silence this warning.\n",
      "  survival_counts=df_titanic.groupby(['sex','class'])['survived'].count()\n"
     ]
    }
   ],
   "source": [
    "# Group by 'sex' and 'class' and count survival occurrences\n",
    "survival_counts=df_titanic.groupby(['sex','class'])['survived'].count()\n",
    "\n",
    "print(survival_counts)"
   ]
  },
  {
   "cell_type": "markdown",
   "id": "019620f9",
   "metadata": {},
   "source": [
    "**Task 27:** Using Tips, calculate average tip percentage (tip/total_bill *100) by smoker status."
   ]
  },
  {
   "cell_type": "code",
   "execution_count": 224,
   "id": "b8b924ba",
   "metadata": {},
   "outputs": [
    {
     "name": "stdout",
     "output_type": "stream",
     "text": [
      "smoker\n",
      "Yes    16.319604\n",
      "No     15.932846\n",
      "Name: tip_pct, dtype: float64\n"
     ]
    },
    {
     "name": "stderr",
     "output_type": "stream",
     "text": [
      "/var/folders/zc/byg18hq95jb1p5smz74x8s8h0000gn/T/ipykernel_51946/176516652.py:5: FutureWarning: The default of observed=False is deprecated and will be changed to True in a future version of pandas. Pass observed=False to retain current behavior or observed=True to adopt the future default and silence this warning.\n",
      "  avg_tip_pct_by_smoker = df_tips.groupby('smoker')['tip_pct'].mean()\n"
     ]
    }
   ],
   "source": [
    "# Create a new column for tip percentage\n",
    "df_tips['tip_pct'] = df_tips['tip'] / df_tips['total_bill'] * 100\n",
    "\n",
    "# Group by 'smoker' and calculate average tip percentage\n",
    "avg_tip_pct_by_smoker = df_tips.groupby('smoker')['tip_pct'].mean()\n",
    "\n",
    "print(avg_tip_pct_by_smoker)"
   ]
  },
  {
   "cell_type": "markdown",
   "id": "4e33a170",
   "metadata": {},
   "source": [
    "## Merging, Joining & Concatenating"
   ]
  },
  {
   "cell_type": "markdown",
   "id": "4e78c32f",
   "metadata": {},
   "source": [
    "**Task 28:** Create two DataFrames: one with student names and IDs, another with student IDs and grades. Merge them on ID."
   ]
  },
  {
   "cell_type": "code",
   "execution_count": 233,
   "id": "bf81959f",
   "metadata": {},
   "outputs": [
    {
     "name": "stdout",
     "output_type": "stream",
     "text": [
      "   ID   Name Grade\n",
      "0   1   Anar     A\n",
      "1   2   Lale     B\n",
      "2   3  Nigar     A\n",
      "3   4   Zaur     C\n"
     ]
    }
   ],
   "source": [
    "# DataFrame 1: Student names and IDs\n",
    "df_students = pd.DataFrame({\n",
    "    'ID': [1, 2, 3, 4],\n",
    "    'Name': ['Anar', 'Lale', 'Nigar', 'Zaur']\n",
    "})\n",
    "\n",
    "# DataFrame 2: Student IDs and grades\n",
    "df_grades = pd.DataFrame({\n",
    "    'ID': [1, 2, 3, 4],\n",
    "    'Grade': ['A', 'B', 'A', 'C']\n",
    "})\n",
    "\n",
    "\n",
    "# Merge the two DataFrames on 'ID'\n",
    "df_merged = pd.merge(df_students, df_grades, on='ID')\n",
    "\n",
    "print(df_merged)\n"
   ]
  },
  {
   "cell_type": "markdown",
   "id": "306bd7e7",
   "metadata": {},
   "source": [
    "**Task 29:** Concatenate two small DataFrames vertically and horizontally."
   ]
  },
  {
   "cell_type": "code",
   "execution_count": 241,
   "id": "17aa7bd9",
   "metadata": {},
   "outputs": [
    {
     "name": "stdout",
     "output_type": "stream",
     "text": [
      "vertical    ID   Name\n",
      "0   1   Anna\n",
      "1   2  Irina\n",
      "2   3   John\n",
      "3   4   Mike\n",
      "4   5   Sara\n",
      "5   6    Tom\n",
      "horizontal    ID   Name Grade  Age\n",
      "0   1   Anna     A   20\n",
      "1   2  Irina     B   21\n",
      "2   3   John     C   22\n"
     ]
    }
   ],
   "source": [
    "import pandas as pd\n",
    "\n",
    "# Create first DataFrame\n",
    "df1 = pd.DataFrame({\n",
    "    'ID': [1, 2, 3],\n",
    "    'Name': ['Anna', 'Irina', 'John']\n",
    "})\n",
    "\n",
    "# Create second DataFrame\n",
    "df2 = pd.DataFrame({\n",
    "    'ID': [4, 5, 6],\n",
    "    'Name': ['Mike', 'Sara', 'Tom']\n",
    "})\n",
    "\n",
    "# ---------------------\n",
    "# Vertical concatenation (stack rows)\n",
    "df_vertical = pd.concat([df1, df2], axis=0, ignore_index=True)\n",
    "print('vertical',df_vertical)\n",
    "\n",
    "# ---------------------\n",
    "# Horizontal concatenation (stack columns)\n",
    "# For horizontal concatenation, both DataFrames should have the same number of rows\n",
    "df3 = pd.DataFrame({\n",
    "    'Grade': ['A', 'B', 'C'],\n",
    "    'Age': [20, 21, 22]\n",
    "})\n",
    "\n",
    "df_horizontal = pd.concat([df1, df3], axis=1)\n",
    "\n",
    "print('horizontal',df_horizontal)\n",
    "\n"
   ]
  },
  {
   "cell_type": "markdown",
   "id": "9f0d60c6",
   "metadata": {},
   "source": [
    "**Task 30:** From Titanic, create two subsets (male, female passengers) and then concatenate them."
   ]
  },
  {
   "cell_type": "code",
   "execution_count": 253,
   "id": "5632d8b6",
   "metadata": {},
   "outputs": [
    {
     "name": "stdout",
     "output_type": "stream",
     "text": [
      "   survived  pclass   sex   age  sibsp  parch     fare embarked  class    who  \\\n",
      "0         0       3  male  22.0      1      0   7.2500        S  Third    man   \n",
      "1         0       3  male  35.0      0      0   8.0500        S  Third    man   \n",
      "2         0       3  male   NaN      0      0   8.4583        Q  Third    man   \n",
      "3         0       1  male  54.0      0      0  51.8625        S  First    man   \n",
      "4         0       3  male   2.0      3      1  21.0750        S  Third  child   \n",
      "\n",
      "   adult_male deck  embark_town alive  alone  \n",
      "0        True  NaN  Southampton    no  False  \n",
      "1        True  NaN  Southampton    no   True  \n",
      "2        True  NaN   Queenstown    no   True  \n",
      "3        True    E  Southampton    no   True  \n",
      "4       False  NaN  Southampton    no  False  \n",
      "     survived  pclass     sex   age  sibsp  parch     fare embarked   class  \\\n",
      "886         1       2  female  25.0      0      1  26.0000        S  Second   \n",
      "887         0       3  female  22.0      0      0  10.5167        S   Third   \n",
      "888         0       3  female  39.0      0      5  29.1250        Q   Third   \n",
      "889         1       1  female  19.0      0      0  30.0000        S   First   \n",
      "890         0       3  female   NaN      1      2  23.4500        S   Third   \n",
      "\n",
      "       who  adult_male deck  embark_town alive  alone  \n",
      "886  woman       False  NaN  Southampton   yes  False  \n",
      "887  woman       False  NaN  Southampton    no   True  \n",
      "888  woman       False  NaN   Queenstown    no  False  \n",
      "889  woman       False    B  Southampton   yes   True  \n",
      "890  woman       False  NaN  Southampton    no  False  \n"
     ]
    }
   ],
   "source": [
    "# Subset: male passengers\n",
    "df_male = df_titanic[df_titanic['sex'] == 'male']\n",
    "\n",
    "# Subset: female passengers\n",
    "df_female = df_titanic[df_titanic['sex'] == 'female']\n",
    "\n",
    "# Concatenate subsets vertically\n",
    "df_combined = pd.concat([df_male, df_female], axis=0, ignore_index=True)\n",
    "\n",
    "# Display the first and tail few rows\n",
    "print(df_combined.head())\n",
    "print(df_combined.tail())\n",
    "\n"
   ]
  },
  {
   "cell_type": "markdown",
   "id": "f865544f",
   "metadata": {},
   "source": [
    "**Task 31:** Create two DataFrames with overlapping columns and perform an inner join."
   ]
  },
  {
   "cell_type": "code",
   "execution_count": 254,
   "id": "d4e4dfbf",
   "metadata": {},
   "outputs": [
    {
     "name": "stdout",
     "output_type": "stream",
     "text": [
      "   ID  Name  Age Grade\n",
      "0   3  John   22     A\n",
      "1   4  Mike   23     C\n"
     ]
    }
   ],
   "source": [
    "# DataFrame 1\n",
    "df1 = pd.DataFrame({\n",
    "    'ID': [1, 2, 3, 4],\n",
    "    'Name': ['Anna', 'Irina', 'John', 'Mike'],\n",
    "    'Age': [20, 21, 22, 23]\n",
    "})\n",
    "\n",
    "# DataFrame 2\n",
    "df2 = pd.DataFrame({\n",
    "    'ID': [3, 4, 5, 6],\n",
    "    'Name': ['John', 'Mike', 'Sara', 'Tom'],\n",
    "    'Grade': ['A', 'C', 'B', 'A']\n",
    "})\n",
    "\n",
    "# Perform inner join on overlapping columns 'ID' and 'Name'\n",
    "df_inner = pd.merge(df1, df2, on=['ID', 'Name'], how='inner')\n",
    "\n",
    "print(df_inner)\n"
   ]
  },
  {
   "cell_type": "markdown",
   "id": "37d15206",
   "metadata": {},
   "source": [
    "**Task 32:** Join Tips dataset with itself using concat (ignore index)."
   ]
  },
  {
   "cell_type": "code",
   "execution_count": 256,
   "id": "0ce1baa3",
   "metadata": {},
   "outputs": [
    {
     "name": "stdout",
     "output_type": "stream",
     "text": [
      "   total_bill   tip     sex smoker  day    time  size    tip_pct\n",
      "0       16.99  1.01  Female     No  Sun  Dinner     2   5.944673\n",
      "1       10.34  1.66    Male     No  Sun  Dinner     3  16.054159\n",
      "2       21.01  3.50    Male     No  Sun  Dinner     3  16.658734\n",
      "3       23.68  3.31    Male     No  Sun  Dinner     2  13.978041\n",
      "4       24.59  3.61  Female     No  Sun  Dinner     4  14.680765\n",
      "(488, 8)\n"
     ]
    }
   ],
   "source": [
    "# Concatenate the dataset with itself, keep only common columns, reset index\n",
    "df_concat = pd.concat([df_tips, df_tips], join='inner', ignore_index=True)\n",
    "\n",
    "print(df_concat.head())\n",
    "print(df_concat.shape)  # should be double the original rows\n"
   ]
  },
  {
   "cell_type": "markdown",
   "id": "bac5825f",
   "metadata": {},
   "source": [
    "## Date & Time Handling"
   ]
  },
  {
   "cell_type": "markdown",
   "id": "960412ec",
   "metadata": {},
   "source": [
    "**Task 33:** Create a Pandas date range for January 2023 with daily frequency."
   ]
  },
  {
   "cell_type": "code",
   "execution_count": 260,
   "id": "dc4dedb7",
   "metadata": {},
   "outputs": [
    {
     "name": "stdout",
     "output_type": "stream",
     "text": [
      "DatetimeIndex(['2003-01-01', '2003-01-02', '2003-01-03', '2003-01-04',\n",
      "               '2003-01-05', '2003-01-06', '2003-01-07', '2003-01-08',\n",
      "               '2003-01-09', '2003-01-10',\n",
      "               ...\n",
      "               '2023-01-21', '2023-01-22', '2023-01-23', '2023-01-24',\n",
      "               '2023-01-25', '2023-01-26', '2023-01-27', '2023-01-28',\n",
      "               '2023-01-29', '2023-01-30'],\n",
      "              dtype='datetime64[ns]', length=7335, freq='D')\n"
     ]
    }
   ],
   "source": [
    "# Create a date range for January 2023 with daily frequency\n",
    "date_range_jan=pd.date_range(start='01/01/2003',end='30/01/2023',freq='D')\n",
    "\n",
    "print(date_range_jan)"
   ]
  },
  {
   "cell_type": "markdown",
   "id": "e24f2410",
   "metadata": {},
   "source": [
    "**Task 34:** Create a DataFrame with random sales values for each month of 2023."
   ]
  },
  {
   "cell_type": "code",
   "execution_count": 262,
   "id": "08be45be",
   "metadata": {},
   "outputs": [
    {
     "name": "stdout",
     "output_type": "stream",
     "text": [
      "        Month  Sales\n",
      "0  2023-01-01   3908\n",
      "1  2023-02-01   1870\n",
      "2  2023-03-01   2637\n",
      "3  2023-04-01   1198\n",
      "4  2023-05-01   2543\n",
      "5  2023-06-01   2794\n",
      "6  2023-07-01   1356\n",
      "7  2023-08-01   3861\n",
      "8  2023-09-01   2327\n",
      "9  2023-10-01   3778\n",
      "10 2023-11-01   3458\n",
      "11 2023-12-01   2176\n"
     ]
    }
   ],
   "source": [
    "# Create a date range for the first day of each month in 2023\n",
    "months_2023 = pd.date_range(start='2023-01-01', end='2023-12-01', freq='MS')  # 'MS' = Month Start\n",
    "\n",
    "# Generate random sales values (e.g., between 1000 and 5000)\n",
    "sales = np.random.randint(1000, 5000, size=len(months_2023))\n",
    "\n",
    "# Create the DataFrame\n",
    "df_sales = pd.DataFrame({\n",
    "    'Month': months_2023,\n",
    "    'Sales': sales\n",
    "})\n",
    "\n",
    "print(df_sales)\n"
   ]
  },
  {
   "cell_type": "markdown",
   "id": "e3a02714",
   "metadata": {},
   "source": [
    "**Task 35:** Convert a string column ['2023-01-01','2023-02-01'] to datetime format."
   ]
  },
  {
   "cell_type": "code",
   "execution_count": 265,
   "id": "d2ee3c51",
   "metadata": {},
   "outputs": [
    {
     "name": "stdout",
     "output_type": "stream",
     "text": [
      "DatetimeIndex(['2023-01-01', '2023-02-01'], dtype='datetime64[ns]', freq=None)\n"
     ]
    }
   ],
   "source": [
    "# Sample data\n",
    "date_strings = ['2023-01-01', '2023-02-01']\n",
    "\n",
    "# Convert to datetime\n",
    "dates = pd.to_datetime(date_strings)\n",
    "\n",
    "print(dates)\n",
    "\n"
   ]
  },
  {
   "cell_type": "markdown",
   "id": "4c7f6f17",
   "metadata": {},
   "source": [
    "**Task 36:** From the date range of one year, extract all weekends."
   ]
  },
  {
   "cell_type": "code",
   "execution_count": 274,
   "id": "df007e0b",
   "metadata": {},
   "outputs": [
    {
     "name": "stdout",
     "output_type": "stream",
     "text": [
      "DatetimeIndex(['2025-01-04', '2025-01-05', '2025-01-11', '2025-01-12',\n",
      "               '2025-01-18', '2025-01-19', '2025-01-25', '2025-01-26',\n",
      "               '2025-02-01', '2025-02-02',\n",
      "               ...\n",
      "               '2025-11-29', '2025-11-30', '2025-12-06', '2025-12-07',\n",
      "               '2025-12-13', '2025-12-14', '2025-12-20', '2025-12-21',\n",
      "               '2025-12-27', '2025-12-28'],\n",
      "              dtype='datetime64[ns]', length=104, freq=None)\n"
     ]
    }
   ],
   "source": [
    "# Create a date range for the year 2023\n",
    "dates_2025=pd.date_range(start='01/01/2025',end='31/12/2025',freq='D')\n",
    "\n",
    "\n",
    "# Extract weekends (Saturday=5, Sunday=6)\n",
    "weekends = dates_2025[dates_2025.weekday >= 5]\n",
    "\n",
    "print(weekends)\n"
   ]
  },
  {
   "cell_type": "markdown",
   "id": "130b8241",
   "metadata": {},
   "source": [
    "**Task 37:** Create a time series DataFrame with hourly frequency for one day."
   ]
  },
  {
   "cell_type": "code",
   "execution_count": 275,
   "id": "f0c3634e",
   "metadata": {},
   "outputs": [
    {
     "name": "stdout",
     "output_type": "stream",
     "text": [
      "              Datetime  Value\n",
      "0  2023-01-01 00:00:00     91\n",
      "1  2023-01-01 01:00:00     50\n",
      "2  2023-01-01 02:00:00     68\n",
      "3  2023-01-01 03:00:00     56\n",
      "4  2023-01-01 04:00:00     62\n",
      "5  2023-01-01 05:00:00     55\n",
      "6  2023-01-01 06:00:00     50\n",
      "7  2023-01-01 07:00:00     98\n",
      "8  2023-01-01 08:00:00     72\n",
      "9  2023-01-01 09:00:00     99\n",
      "10 2023-01-01 10:00:00     92\n",
      "11 2023-01-01 11:00:00     86\n",
      "12 2023-01-01 12:00:00     52\n",
      "13 2023-01-01 13:00:00     53\n",
      "14 2023-01-01 14:00:00     99\n",
      "15 2023-01-01 15:00:00     97\n",
      "16 2023-01-01 16:00:00     73\n",
      "17 2023-01-01 17:00:00     80\n",
      "18 2023-01-01 18:00:00     73\n",
      "19 2023-01-01 19:00:00     82\n",
      "20 2023-01-01 20:00:00     62\n",
      "21 2023-01-01 21:00:00     81\n",
      "22 2023-01-01 22:00:00     79\n",
      "23 2023-01-01 23:00:00     73\n"
     ]
    },
    {
     "name": "stderr",
     "output_type": "stream",
     "text": [
      "/var/folders/zc/byg18hq95jb1p5smz74x8s8h0000gn/T/ipykernel_51946/999739551.py:2: FutureWarning: 'H' is deprecated and will be removed in a future version, please use 'h' instead.\n",
      "  time_range = pd.date_range(start='2023-01-01', end='2023-01-01 23:00:00', freq='H')\n"
     ]
    }
   ],
   "source": [
    "# Create a date range for one day with hourly frequency\n",
    "time_range = pd.date_range(start='2023-01-01', end='2023-01-01 23:00:00', freq='H')\n",
    "\n",
    "# Generate some random values for the time series\n",
    "values = np.random.randint(50, 100, size=len(time_range))\n",
    "\n",
    "# Create the DataFrame\n",
    "df_time_series = pd.DataFrame({\n",
    "    'Datetime': time_range,\n",
    "    'Value': values\n",
    "})\n",
    "\n",
    "print(df_time_series)\n"
   ]
  },
  {
   "cell_type": "markdown",
   "id": "a1f52d82",
   "metadata": {},
   "source": [
    "## Descriptive Statistics & Summarization"
   ]
  },
  {
   "cell_type": "markdown",
   "id": "028158b8",
   "metadata": {},
   "source": [
    "**Task 38:** Using Titanic, compute mean, median, and std of 'age'."
   ]
  },
  {
   "cell_type": "code",
   "execution_count": 281,
   "id": "0bc7fb1e",
   "metadata": {},
   "outputs": [
    {
     "name": "stdout",
     "output_type": "stream",
     "text": [
      "29.69911764705882\n",
      "0    24.0\n",
      "Name: age, dtype: float64\n",
      "28.0\n"
     ]
    }
   ],
   "source": [
    "print(df_titanic['age'].mean())\n",
    "print(df_titanic['age'].mode())\n",
    "print(df_titanic['age'].median())"
   ]
  },
  {
   "cell_type": "markdown",
   "id": "12a484f4",
   "metadata": {},
   "source": [
    "**Task 39:** Using Tips, find the correlation between total_bill and tip."
   ]
  },
  {
   "cell_type": "code",
   "execution_count": 285,
   "id": "447c71bc",
   "metadata": {},
   "outputs": [
    {
     "name": "stdout",
     "output_type": "stream",
     "text": [
      "            total_bill       tip\n",
      "total_bill    1.000000  0.675734\n",
      "tip           0.675734  1.000000\n"
     ]
    }
   ],
   "source": [
    "# Compute correlation between total_bill and tip\n",
    "correlation = df_tips[['total_bill', 'tip']].corr()\n",
    "\n",
    "print(correlation)\n"
   ]
  },
  {
   "cell_type": "markdown",
   "id": "4ce991c6",
   "metadata": {},
   "source": [
    "**Task 40:** Summarize Titanic dataset with describe()."
   ]
  },
  {
   "cell_type": "code",
   "execution_count": 290,
   "id": "0ce107fc",
   "metadata": {},
   "outputs": [
    {
     "name": "stdout",
     "output_type": "stream",
     "text": [
      "         survived      pclass         age       sibsp       parch        fare\n",
      "count  891.000000  891.000000  714.000000  891.000000  891.000000  891.000000\n",
      "mean     0.383838    2.308642   29.699118    0.523008    0.381594   32.204208\n",
      "std      0.486592    0.836071   14.526497    1.102743    0.806057   49.693429\n",
      "min      0.000000    1.000000    0.420000    0.000000    0.000000    0.000000\n",
      "25%      0.000000    2.000000   20.125000    0.000000    0.000000    7.910400\n",
      "50%      0.000000    3.000000   28.000000    0.000000    0.000000   14.454200\n",
      "75%      1.000000    3.000000   38.000000    1.000000    0.000000   31.000000\n",
      "max      1.000000    3.000000   80.000000    8.000000    6.000000  512.329200\n"
     ]
    }
   ],
   "source": [
    "# Summarize numeric columns\n",
    "summary=df_titanic.describe()\n",
    "print(summary)"
   ]
  },
  {
   "cell_type": "markdown",
   "id": "1e87d75f",
   "metadata": {},
   "source": [
    "**Task 41:** From Iris, compute variance of petal length."
   ]
  },
  {
   "cell_type": "code",
   "execution_count": 295,
   "id": "5815bd8a",
   "metadata": {},
   "outputs": [
    {
     "name": "stdout",
     "output_type": "stream",
     "text": [
      "Variance of petal length 3.116277852348993\n"
     ]
    }
   ],
   "source": [
    "# Compute variance of petal length\n",
    "petal_length_variance=df_iris['PETAL LENGTH (CM)'].var()\n",
    "\n",
    "print('Variance of petal length',petal_length_variance)"
   ]
  },
  {
   "cell_type": "markdown",
   "id": "bd127bf6",
   "metadata": {},
   "source": [
    "**Task 42:** Using Tips, find the day with highest average total_bill."
   ]
  },
  {
   "cell_type": "code",
   "execution_count": 307,
   "id": "8ef0e9b9",
   "metadata": {},
   "outputs": [
    {
     "name": "stdout",
     "output_type": "stream",
     "text": [
      "day\n",
      "Sun     21.410000\n",
      "Sat     20.441379\n",
      "Thur    17.682742\n",
      "Fri     17.151579\n",
      "Name: total_bill, dtype: float64\n"
     ]
    },
    {
     "name": "stderr",
     "output_type": "stream",
     "text": [
      "/var/folders/zc/byg18hq95jb1p5smz74x8s8h0000gn/T/ipykernel_51946/1504825683.py:2: FutureWarning: The default of observed=False is deprecated and will be changed to True in a future version of pandas. Pass observed=False to retain current behavior or observed=True to adopt the future default and silence this warning.\n",
      "  mean_total_by_day=df_tips.groupby('day',sort=False)['total_bill'].mean()\n"
     ]
    }
   ],
   "source": [
    "# Group by 'day' and calculate mean total_bill\n",
    "mean_total_by_day=df_tips.groupby('day',sort=False)['total_bill'].mean()\n",
    "\n",
    "#Highest average total_bill is on Sunday\n",
    "print(mean_total_by_day)\n"
   ]
  },
  {
   "cell_type": "markdown",
   "id": "91212612",
   "metadata": {},
   "source": [
    "## Visualization with Pandas (using Matplotlib backend)"
   ]
  },
  {
   "cell_type": "markdown",
   "id": "83f8a137",
   "metadata": {},
   "source": [
    "**Task 43:** Using Titanic, plot a bar chart of survival counts by gender."
   ]
  },
  {
   "cell_type": "code",
   "execution_count": 313,
   "id": "79c4995e",
   "metadata": {},
   "outputs": [
    {
     "data": {
      "image/png": "[encoded data removed]",
      "text/plain": [
       "<Figure size 640x480 with 1 Axes>"
      ]
     },
     "metadata": {},
     "output_type": "display_data"
    }
   ],
   "source": [
    "import seaborn as sns\n",
    "import matplotlib.pyplot as plt\n",
    "\n",
    "# Create bar plot\n",
    "sns.barplot(data=df_titanic, x='sex', y='survived')\n",
    "\n",
    "# Show the plot\n",
    "plt.show()\n",
    "\n"
   ]
  },
  {
   "cell_type": "markdown",
   "id": "ad535b94",
   "metadata": {},
   "source": [
    "**Task 44:** Using Tips, plot a histogram of total_bill."
   ]
  },
  {
   "cell_type": "code",
   "execution_count": 316,
   "id": "9f8c242b",
   "metadata": {},
   "outputs": [
    {
     "data": {
      "image/png": "[encoded data removed]",
      "text/plain": [
       "<Figure size 640x480 with 1 Axes>"
      ]
     },
     "metadata": {},
     "output_type": "display_data"
    }
   ],
   "source": [
    "# Using Seaborn\n",
    "sns.histplot(data=df_tips, x='total_bill', bins=20, kde=True)\n",
    "plt.title('Histogram')\n",
    "plt.xlabel('Total Bill')\n",
    "plt.ylabel('Count')\n",
    "plt.show()\n"
   ]
  },
  {
   "cell_type": "markdown",
   "id": "8ff3e571",
   "metadata": {},
   "source": [
    "**Task 45:** Using Iris, plot a boxplot of sepal length by species."
   ]
  },
  {
   "cell_type": "code",
   "execution_count": 319,
   "id": "599e2c11",
   "metadata": {},
   "outputs": [
    {
     "data": {
      "image/png": "[encoded data removed]",
      "text/plain": [
       "<Figure size 640x480 with 1 Axes>"
      ]
     },
     "metadata": {},
     "output_type": "display_data"
    }
   ],
   "source": [
    "# Create boxplot\n",
    "sns.boxplot(data=df_iris, x='SPECIES', y='SEPAL LENGTH (CM)')\n",
    "plt.title('Boxplot of Sepal Length by Species')\n",
    "plt.xlabel('Species')\n",
    "plt.ylabel('Sepal Length (cm)')\n",
    "plt.show()\n"
   ]
  },
  {
   "cell_type": "markdown",
   "id": "eaa44f2b",
   "metadata": {},
   "source": [
    "**Task 46:** Using Tips, create a scatter plot of total_bill vs tip."
   ]
  },
  {
   "cell_type": "code",
   "execution_count": 320,
   "id": "1702d6da",
   "metadata": {},
   "outputs": [
    {
     "data": {
      "image/png": "[encoded data removed]",
      "text/plain": [
       "<Figure size 640x480 with 1 Axes>"
      ]
     },
     "metadata": {},
     "output_type": "display_data"
    }
   ],
   "source": [
    "\n",
    "# Create scatter plot\n",
    "sns.scatterplot(data=df_tips, x='total_bill', y='tip')\n",
    "plt.title('Scatter Plot of Total Bill vs Tip')\n",
    "plt.xlabel('Total Bill')\n",
    "plt.ylabel('Tip')\n",
    "plt.show()\n"
   ]
  },
  {
   "cell_type": "markdown",
   "id": "6fb2e90d",
   "metadata": {},
   "source": [
    "**Task 47:** Using Titanic, plot survival rate by passenger class."
   ]
  },
  {
   "cell_type": "code",
   "execution_count": 321,
   "id": "38faa722",
   "metadata": {},
   "outputs": [
    {
     "data": {
      "image/png": "[encoded data removed]",
      "text/plain": [
       "<Figure size 640x480 with 1 Axes>"
      ]
     },
     "metadata": {},
     "output_type": "display_data"
    }
   ],
   "source": [
    "# Create bar plot of survival rate by passenger class\n",
    "sns.barplot(data=df_titanic, x='pclass', y='survived')\n",
    "plt.title('Survival Rate by Passenger Class')\n",
    "plt.xlabel('Passenger Class')\n",
    "plt.ylabel('Survival Rate')\n",
    "plt.show()\n"
   ]
  },
  {
   "cell_type": "markdown",
   "id": "ff8c3a04",
   "metadata": {},
   "source": [
    "## Mini Case Studies (realistic mini datasets)"
   ]
  },
  {
   "cell_type": "markdown",
   "id": "61fcc653",
   "metadata": {},
   "source": [
    "**Task 48:** With Titanic dataset, build a summary showing survival rate by gender and passenger class."
   ]
  },
  {
   "cell_type": "code",
   "execution_count": 324,
   "id": "70ed5ce9",
   "metadata": {},
   "outputs": [
    {
     "name": "stdout",
     "output_type": "stream",
     "text": [
      "      sex  pclass  survival_rate\n",
      "0  female       1       0.968085\n",
      "1  female       2       0.921053\n",
      "2  female       3       0.500000\n",
      "3    male       1       0.368852\n",
      "4    male       2       0.157407\n",
      "5    male       3       0.135447\n"
     ]
    }
   ],
   "source": [
    "# Group by 'sex' and 'pclass' and calculate survival rate\n",
    "survival_summary = df_titanic.groupby(['sex', 'pclass'])['survived'].mean().reset_index()\n",
    "\n",
    "# Rename the column\n",
    "survival_summary.rename(columns={'survived': 'survival_rate'}, inplace=True)\n",
    "\n",
    "print(survival_summary)\n"
   ]
  },
  {
   "cell_type": "markdown",
   "id": "999d53e9",
   "metadata": {},
   "source": [
    "**Task 49:** With Tips dataset, analyze which day of the week had the highest total bill."
   ]
  },
  {
   "cell_type": "code",
   "execution_count": 350,
   "id": "2c0bf3ee",
   "metadata": {},
   "outputs": [
    {
     "name": "stdout",
     "output_type": "stream",
     "text": [
      "\n",
      "Day with the highest total bill: Sat (1778.40)\n"
     ]
    },
    {
     "name": "stderr",
     "output_type": "stream",
     "text": [
      "/var/folders/zc/byg18hq95jb1p5smz74x8s8h0000gn/T/ipykernel_51946/1369393626.py:2: FutureWarning: The default of observed=False is deprecated and will be changed to True in a future version of pandas. Pass observed=False to retain current behavior or observed=True to adopt the future default and silence this warning.\n",
      "  total_bill_by_day = df_tips.groupby('day',sort=False)['total_bill'].sum()\n"
     ]
    }
   ],
   "source": [
    "# Group by 'day' and calculate total bill sum\n",
    "total_bill_by_day = df_tips.groupby('day',sort=False)['total_bill'].sum()\n",
    "\n",
    "# Find the day with the highest total bill\n",
    "day_highest_total = total_bill_by_day.idxmax()\n",
    "\n",
    "day_highest_total = total_bill_by_day.idxmax()\n",
    "print(f\"\\nDay with the highest total bill: {day_highest_total} ({total_bill_by_day[day_highest_total]:.2f})\")\n"
   ]
  },
  {
   "cell_type": "markdown",
   "id": "632a17f6",
   "metadata": {},
   "source": [
    "**Task 50:** With Iris dataset, determine which species has the largest average petal length."
   ]
  },
  {
   "cell_type": "code",
   "execution_count": 349,
   "id": "099379f5",
   "metadata": {
    "scrolled": true
   },
   "outputs": [
    {
     "name": "stdout",
     "output_type": "stream",
     "text": [
      "Average petal length by species:\n",
      "SPECIES\n",
      "setosa        1.462\n",
      "versicolor    4.260\n",
      "virginica     5.552\n",
      "Name: PETAL LENGTH (CM), dtype: float64\n",
      "\n",
      "Species with largest average petal length: virginica\n"
     ]
    },
    {
     "name": "stderr",
     "output_type": "stream",
     "text": [
      "/var/folders/zc/byg18hq95jb1p5smz74x8s8h0000gn/T/ipykernel_51946/124530235.py:2: FutureWarning: The default of observed=False is deprecated and will be changed to True in a future version of pandas. Pass observed=False to retain current behavior or observed=True to adopt the future default and silence this warning.\n",
      "  avg_petal_length = df_iris.groupby('SPECIES')['PETAL LENGTH (CM)'].mean()\n"
     ]
    }
   ],
   "source": [
    "# Compute average petal length by species\n",
    "avg_petal_length = df_iris.groupby('SPECIES')['PETAL LENGTH (CM)'].mean()\n",
    "\n",
    "# Find the species with the largest average petal length\n",
    "species_max_petal = avg_petal_length.idxmax()\n",
    "\n",
    "print(\"Average petal length by species:\")\n",
    "print(avg_petal_length)\n",
    "print(f\"\\nSpecies with largest average petal length: {species_max_petal}\" )\n"
   ]
  },
  {
   "cell_type": "markdown",
   "id": "7034a922",
   "metadata": {},
   "source": [
    "**Task 51:** From Titanic, find the proportion of children (<18 years) who survived compared to adults."
   ]
  },
  {
   "cell_type": "code",
   "execution_count": 352,
   "id": "5349d9d0",
   "metadata": {},
   "outputs": [
    {
     "name": "stdout",
     "output_type": "stream",
     "text": [
      "Survival proportion by age group:\n",
      "age_group\n",
      "Adult    0.361183\n",
      "Child    0.539823\n",
      "Name: survived, dtype: float64\n"
     ]
    }
   ],
   "source": [
    "\n",
    "# Create a new column to distinguish children and adults\n",
    "df_titanic['age_group'] = df_titanic['age'].apply(lambda x: 'Child' if x < 18 else 'Adult')\n",
    "\n",
    "# Calculate survival proportion for each age group\n",
    "survival_by_age_group = df_titanic.groupby('age_group')['survived'].mean()\n",
    "\n",
    "print(\"Survival proportion by age group:\")\n",
    "print(survival_by_age_group)\n"
   ]
  },
  {
   "cell_type": "markdown",
   "id": "ffdfd093",
   "metadata": {},
   "source": [
    "**Task 52:** Using Tips, create a pivot table showing average tip by day and smoker status."
   ]
  },
  {
   "cell_type": "code",
   "execution_count": 356,
   "id": "5149da06",
   "metadata": {},
   "outputs": [
    {
     "name": "stdout",
     "output_type": "stream",
     "text": [
      "Average tip by day and smoker status:\n",
      "smoker       Yes        No\n",
      "day                       \n",
      "Thur    3.030000  2.673778\n",
      "Fri     2.714000  2.812500\n",
      "Sat     2.875476  3.102889\n",
      "Sun     3.516842  3.167895\n"
     ]
    },
    {
     "name": "stderr",
     "output_type": "stream",
     "text": [
      "/var/folders/zc/byg18hq95jb1p5smz74x8s8h0000gn/T/ipykernel_51946/639464801.py:2: FutureWarning: The default value of observed=False is deprecated and will change to observed=True in a future version of pandas. Specify observed=False to silence this warning and retain the current behavior\n",
      "  pivot_tip = pd.pivot_table(\n"
     ]
    }
   ],
   "source": [
    "# Create pivot table\n",
    "pivot_tip = pd.pivot_table(\n",
    "    df_tips, \n",
    "    values='tip',       # Column to aggregate\n",
    "    index='day',        # Rows\n",
    "    columns='smoker',   # Columns\n",
    "    aggfunc='mean'      # Aggregation function\n",
    ")\n",
    "\n",
    "print(\"Average tip by day and smoker status:\")\n",
    "print(pivot_tip)\n"
   ]
  }
 ],
 "metadata": {
  "kernelspec": {
   "display_name": "Python 3 (ipykernel)",
   "language": "python",
   "name": "python3"
  },
  "language_info": {
   "codemirror_mode": {
    "name": "ipython",
    "version": 3
   },
   "file_extension": ".py",
   "mimetype": "text/x-python",
   "name": "python",
   "nbconvert_exporter": "python",
   "pygments_lexer": "ipython3",
   "version": "3.11.13"
  },
  "varInspector": {
   "cols": {
    "lenName": 16,
    "lenType": 16,
    "lenVar": 40
   },
   "kernels_config": {
    "python": {
     "delete_cmd_postfix": "",
     "delete_cmd_prefix": "del ",
     "library": "var_list.py",
     "varRefreshCmd": "print(var_dic_list())"
    },
    "r": {
     "delete_cmd_postfix": ") ",
     "delete_cmd_prefix": "rm(",
     "library": "var_list.r",
     "varRefreshCmd": "cat(var_dic_list()) "
    }
   },
   "types_to_exclude": [
    "module",
    "function",
    "builtin_function_or_method",
    "instance",
    "_Feature"
   ],
   "window_display": false
  }
 },
 "nbformat": 4,
 "nbformat_minor": 5
}
